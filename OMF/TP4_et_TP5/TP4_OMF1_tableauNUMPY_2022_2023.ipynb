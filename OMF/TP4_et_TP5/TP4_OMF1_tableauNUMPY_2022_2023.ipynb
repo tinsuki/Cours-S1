{
 "cells": [
  {
   "attachments": {},
   "cell_type": "markdown",
   "metadata": {},
   "source": [
    "# TP 4 : Découverte du module NumPy : tableaux et calcul matriciel\n",
    "\n",
    "Le module **NumPy** contient les éléments indispensables à la modélisation des vecteurs, des matrices et plus généralement des tableaux multidimensionnels. On y trouve de nombreuses fonctions de manipulation de tableaux et une bibliothèque mathématique importante.\n",
    "\n",
    "Il s’agit d’un module stable, bien testé et relativement bien documenté :\n",
    "<http://docs.scipy.org/doc/> , <http://docs.scipy.org/doc/numpy/reference/"
   ]
  },
  {
   "attachments": {},
   "cell_type": "markdown",
   "metadata": {},
   "source": [
    "Pour installer le module NumPy, on exécutera la commande : "
   ]
  },
  {
   "cell_type": "code",
   "execution_count": 1,
   "metadata": {},
   "outputs": [
    {
     "ename": "SyntaxError",
     "evalue": "invalid syntax (2100378928.py, line 3)",
     "output_type": "error",
     "traceback": [
      "\u001B[1;36m  Cell \u001B[1;32mIn[1], line 3\u001B[1;36m\u001B[0m\n\u001B[1;33m    pip install numpy\u001B[0m\n\u001B[1;37m        ^\u001B[0m\n\u001B[1;31mSyntaxError\u001B[0m\u001B[1;31m:\u001B[0m invalid syntax\n"
     ]
    }
   ],
   "source": [
    "import numpy\n",
    "\n",
    "pip install numpy"
   ]
  },
  {
   "attachments": {},
   "cell_type": "markdown",
   "metadata": {},
   "source": [
    "Pour importer le module python, on exécutera la commande :"
   ]
  },
  {
   "cell_type": "code",
   "execution_count": null,
   "metadata": {},
   "outputs": [],
   "source": [
    "import numpy as np  # toutes les fonctions NumPy seront alors préfixées par np."
   ]
  },
  {
   "attachments": {},
   "cell_type": "markdown",
   "metadata": {},
   "source": [
    "----\n",
    "## 1. Créations de tableaux de type ndarray\n",
    "\n",
    "Pour travailler efficacement avec des tableaux (multidimensionnel), NumPy fournit le type *ndarray*, qui, bien que très proche sur\n",
    "le plan syntaxique du type *list* , diffère de ce dernier sur plusieurs points importants :\n",
    "* la taille des tableaux ndarray est fixée au moment de la création et ne peut plus être modifiée par la suite (on peut cependandant les *redimensionner*)\n",
    ";\n",
    "* les tableaux ndarray sont *homogènes*, c’est-à-dire constitués d’éléments de même type.\n",
    "\n",
    "En contrepartie, l’accès aux éléments d’un tableau ndarray est incomparablement plus rapide, ce qui justifie\n",
    "pleinement leur usage pour manipuler des matrices de grandes tailles.\n"
   ]
  },
  {
   "attachments": {},
   "cell_type": "markdown",
   "metadata": {},
   "source": [
    "**Nous travaillerons pour commencer uniquement avec des tableaux à une dimension (pour manipuler des vecteurs) ou deux dimensions (pour manipuler des matrices).**\n",
    "\n",
    "On utilise la fonction `numpy.array()` pour créer un tableau de type *ndarray* : \n",
    "- à partir de la liste des éléments pour un tableau à une dimension \n",
    "- à partir de la liste des listes pour un tableau à deux dimensions "
   ]
  },
  {
   "cell_type": "code",
   "execution_count": null,
   "metadata": {},
   "outputs": [],
   "source": [
    "# création d'un tableau d'élèments de type float à une dimension\n",
    "B=np.array([1.1,0.3,3.6,-4.7])\n",
    "print(B)\n",
    "print(type(B))"
   ]
  },
  {
   "cell_type": "code",
   "execution_count": 2,
   "metadata": {},
   "outputs": [
    {
     "ename": "NameError",
     "evalue": "name 'np' is not defined",
     "output_type": "error",
     "traceback": [
      "\u001B[1;31m---------------------------------------------------------------------------\u001B[0m",
      "\u001B[1;31mNameError\u001B[0m                                 Traceback (most recent call last)",
      "Cell \u001B[1;32mIn[2], line 2\u001B[0m\n\u001B[0;32m      1\u001B[0m \u001B[38;5;66;03m# création d'une matrice 3 * 4 d'éléments de type int\u001B[39;00m\n\u001B[1;32m----> 2\u001B[0m A\u001B[38;5;241m=\u001B[39m\u001B[43mnp\u001B[49m\u001B[38;5;241m.\u001B[39marray([[\u001B[38;5;241m1\u001B[39m,\u001B[38;5;241m1\u001B[39m,\u001B[38;5;241m1\u001B[39m,\u001B[38;5;241m4\u001B[39m],[\u001B[38;5;241m1\u001B[39m,\u001B[38;5;241m2\u001B[39m,\u001B[38;5;241m-\u001B[39m\u001B[38;5;241m1\u001B[39m,\u001B[38;5;241m0\u001B[39m],[\u001B[38;5;241m0\u001B[39m,\u001B[38;5;241m5\u001B[39m,\u001B[38;5;241m2\u001B[39m,\u001B[38;5;241m1\u001B[39m]])  \n\u001B[0;32m      3\u001B[0m \u001B[38;5;28mprint\u001B[39m(A)\n\u001B[0;32m      4\u001B[0m \u001B[38;5;28mprint\u001B[39m(\u001B[38;5;28mtype\u001B[39m(A))\n",
      "\u001B[1;31mNameError\u001B[0m: name 'np' is not defined"
     ]
    }
   ],
   "source": [
    "# création d'une matrice 3 * 4 d'éléments de type int\n",
    "A=np.array([[1,1,1,4],[1,2,-1,0],[0,5,2,1]])  \n",
    "print(A)\n",
    "print(type(A))"
   ]
  },
  {
   "attachments": {},
   "cell_type": "markdown",
   "metadata": {},
   "source": [
    "##### **Question 1 :** \n",
    "Si les éléments du tableau ont des types différents, certains seront automatiquement convertis. \n",
    "\n",
    "Par exemple, si la liste des coefficients contient des éléments de type *float* et de type *int*, ces derniers seront convertis en *float* :\n",
    "\n",
    "Créez un tableau T de dimension 2 * 2 dont tous les éléments sont de type *int* sauf un qui est de type *float*. Affichez ce tableau et observez."
   ]
  },
  {
   "cell_type": "code",
   "execution_count": null,
   "metadata": {},
   "outputs": [],
   "source": [
    "# Réponse\n",
    "T = np.array([[1, 1],\n",
    "              [1, 1.1]])\n",
    "print(T)"
   ]
  },
  {
   "attachments": {},
   "cell_type": "markdown",
   "metadata": {},
   "source": [
    "Aussi, pour éviter toute ambiguïté il est préférable de préciser lors de la création le type des éléments souhaités avec le paramètre optionnel `dtype` (pour *data type*) :"
   ]
  },
  {
   "cell_type": "code",
   "execution_count": null,
   "metadata": {},
   "outputs": [],
   "source": [
    "B = np.array([1, 7, -1, 0, 2], dtype=int)\n",
    "print(B)\n",
    "C = np.array([1, 7, -1, 0, 2], dtype=float)\n",
    "print(C)"
   ]
  },
  {
   "attachments": {},
   "cell_type": "markdown",
   "metadata": {},
   "source": [
    "----\n",
    "## 2. Accés aux éléments d'un tableau\n",
    "\n",
    "Pour un tableau *ndarray* à une dimension, on accède à un élément exactement de la même façon que pour une liste : à partir de son indice."
   ]
  },
  {
   "cell_type": "code",
   "execution_count": null,
   "metadata": {},
   "outputs": [],
   "source": [
    "print(B)\n",
    "print(B[0])"
   ]
  },
  {
   "attachments": {},
   "cell_type": "markdown",
   "metadata": {},
   "source": [
    "Pour les tableaux bi-dimensionnel, outre la syntaxe usuelle `A[i][j]`, il est aussi possible d’utiliser la syntaxe `A[i,j]` :"
   ]
  },
  {
   "cell_type": "code",
   "execution_count": null,
   "metadata": {},
   "outputs": [],
   "source": [
    "print(A)\n",
    "print(A[2][3])\n",
    "print(A[2,3])"
   ]
  },
  {
   "attachments": {},
   "cell_type": "markdown",
   "metadata": {},
   "source": [
    "Le slicing (les coupes) suit la même syntaxe que pour les listes Python. On retiendra surtout la syntaxe pour obtenir une vue d’une colonne ou d’une ligne d’une matrice :"
   ]
  },
  {
   "cell_type": "code",
   "execution_count": null,
   "metadata": {},
   "outputs": [],
   "source": [
    "A[2]  # 3ie ligne de A"
   ]
  },
  {
   "cell_type": "code",
   "execution_count": null,
   "metadata": {},
   "outputs": [],
   "source": [
    "A[:, 2] # 3e colonne de A"
   ]
  },
  {
   "cell_type": "code",
   "execution_count": null,
   "metadata": {},
   "outputs": [],
   "source": [
    "E= A[2,0:3]  # les 3 premiers éléments de la 3e ligne de A\n",
    "print(A)\n",
    "print(E)\n"
   ]
  },
  {
   "attachments": {},
   "cell_type": "markdown",
   "metadata": {},
   "source": [
    "##### **Question 2 :**  *Attention à la copie de tableau* \n",
    "Obervez et comparez les trois expériences suivantes : "
   ]
  },
  {
   "cell_type": "code",
   "execution_count": null,
   "metadata": {},
   "outputs": [],
   "source": [
    "a = 1.0\n",
    "b = a\n",
    "print(b)\n",
    "a = 4.0\n",
    "print(b)"
   ]
  },
  {
   "cell_type": "code",
   "execution_count": null,
   "metadata": {},
   "outputs": [],
   "source": [
    "A = np.array([[2,2,2],[3,3,3]])\n",
    "B = A\n",
    "print(B)\n",
    "A[0][0] = 55\n",
    "print(B)"
   ]
  },
  {
   "cell_type": "code",
   "execution_count": null,
   "metadata": {},
   "outputs": [],
   "source": [
    "A = np.array([[2,2,2],[3,3,3]])\n",
    "B = A[:,0]   # cas d'une coupe\n",
    "print(B)\n",
    "A[0,0]=66\n",
    "print(B)"
   ]
  },
  {
   "attachments": {},
   "cell_type": "markdown",
   "metadata": {},
   "source": [
    "**A retenir :** Pour un tableau NumPy, par defaut on ne copie que l’adresse du tableau (pointeur) pas son contenu (les deux noms correspondent alors aux mêmes adresses en mémoire). Pour effectuer une copie des valeurs, il faut utiliser .copy().\n",
    "Cela s'applique aussi aux objets de type *list*. \n"
   ]
  },
  {
   "attachments": {},
   "cell_type": "markdown",
   "metadata": {},
   "source": [
    "----\n",
    "## 3. Redimensionnement d'un tableau\n",
    "La méthode `shape` sur un tableau *ndarray* permet de connaitre ses dimensions : elle retourne un tuple d'entiers. \n",
    "On notera que la commande `len(A)` correspond à la premiere valeur de ce tuple. La méthode `size` retourne le nombre d'éléments du tableau."
   ]
  },
  {
   "cell_type": "code",
   "execution_count": null,
   "metadata": {},
   "outputs": [],
   "source": [
    "# cas d'un tableau bi-dimensionnel\n",
    "a= np.array([[1,2,3,4],[5,6,7,8],[9,10,11,12]])\n",
    "print(a.shape)  # équivalent à np.shape(a)\n",
    "print(len(a))\n",
    "print(a.size)  # équivalent à np.size(a)"
   ]
  },
  {
   "cell_type": "code",
   "execution_count": null,
   "metadata": {},
   "outputs": [],
   "source": [
    "# cas d'un tableau à une dimension\n",
    "b=np.array([2,4,6,8])\n",
    "b.shape"
   ]
  },
  {
   "attachments": {},
   "cell_type": "markdown",
   "metadata": {},
   "source": [
    "Modifier cet attribut permet de redimensionner le tableau, à condition bien sur que le nombre total d'éléments du tableau reste inchangé.\n",
    "\n",
    "Les 12 éléments du tableau a peuvent donc être ré-ordonnées pour former un tableau de taille 2*6, ou un tableau 1D de taille 12 : "
   ]
  },
  {
   "cell_type": "code",
   "execution_count": null,
   "metadata": {},
   "outputs": [],
   "source": [
    "a.shape = 2,6\n",
    "a"
   ]
  },
  {
   "cell_type": "code",
   "execution_count": null,
   "metadata": {},
   "outputs": [],
   "source": [
    "a.shape = 12  # équivalent à a.shape = 12,\n",
    "print(a)"
   ]
  },
  {
   "attachments": {},
   "cell_type": "markdown",
   "metadata": {},
   "source": [
    "C'est l'occasion d'observer que numpy différencie les tableaux à une dimension (mathématiquement, des nuplets ou des vecteurs), des tableaux bi-dimensionnels, même lorsque ces derniers ne comportent qu'une seule ligne ou une seule colonne : "
   ]
  },
  {
   "cell_type": "code",
   "execution_count": null,
   "metadata": {},
   "outputs": [],
   "source": [
    "a.shape = 1,12  \n",
    "print(a)  # observez la différence ..."
   ]
  },
  {
   "attachments": {},
   "cell_type": "markdown",
   "metadata": {},
   "source": [
    "On notera que redimensionner une matrice est une opération de coût constant. L'explication est simple : quelle que soit la forme de la matrice, ses coefficients sont stockés en mémoire dans des cases contiguës et le format de la matrice dans un emplacement spécifique : \n",
    "\n",
    "![](tableauDimension.png)\n",
    "\n",
    "Connaître la case dans laquelle se trouve l'élément sur la $i$-ie ligne et $j$-ie colonne, n'est que le résultat d'un simple calcul : \n",
    "\n",
    "Pour une matrice de $n$ lignes et $p$ colonnes, il s'agit de la case de rang $i \\times n + j$. \n",
    "\n",
    "Modifier les dimensions d'un tableau consiste tout simplement à changer cette formule, pas les emplacements en mémoire des éléments. "
   ]
  },
  {
   "attachments": {},
   "cell_type": "markdown",
   "metadata": {},
   "source": [
    "---- \n",
    "## 4. Création de tableaux spécifiques\n",
    "\n",
    "- La méthode `numpy.zeros()` permet de former des tableaux dont tous les coefficients sont nuls : on mettra en argument obligatoire un tuple qui précise la dimension du tableau. \n",
    "\n",
    "\n",
    "- De la même façon, la méthode `numpy.ones()` permet de former des tableaux dont tous les coefficients valent 1. : on mettra en argument obligatoire un tuple qui précise la dimension du tableau. \n",
    "\n",
    "\n",
    "- La méthode `numpy.identity()`constuit la matrice Identité d'ordre $n$ : on mettra en argument la valeur de $n$. \n",
    "\n",
    "- La méthode `numpy.diag()` appliquée à une liste renvoie la matrice diagonale formée à partir des coefficients de cette liste : \n",
    "\n",
    "\n"
   ]
  },
  {
   "attachments": {},
   "cell_type": "markdown",
   "metadata": {},
   "source": [
    "##### **Question 3 :**\n",
    "\n",
    "Construire les matrices suivantes : \n",
    "$$ O_{3,4}  \\quad ; \\quad   I_4 \\quad  ; \\quad  \\begin{pmatrix} -1&0&0\\\\0&2&0\\\\0&0&5 \\end{pmatrix} $$ "
   ]
  },
  {
   "cell_type": "code",
   "execution_count": null,
   "metadata": {},
   "outputs": [],
   "source": [
    "# réponse : \n",
    "O = np.zeros((3,4))\n",
    "I = np.identity(4)\n",
    "M = np.diag([-1, 2, 5])\n",
    "\n",
    "print(O)\n",
    "print(I)\n",
    "print(M)"
   ]
  },
  {
   "attachments": {},
   "cell_type": "markdown",
   "metadata": {},
   "source": [
    "##### **Question 4 :** \n",
    "Ecrire une fonction `matrice()`qui prend en entrée un entier $n$ et qui retourne le tableau ndarray correspond à la matrice $A$ carrée d'ordre $n$ suivante : \n",
    " $$ \\begin{pmatrix}\n",
    " 2 & -1 & 0 & \\cdots & \\cdots & 0 \\\\\n",
    " -1 & 2 & -1 & \\ddots & \\cdots & \\vdots \\\\\n",
    " 0 & -1 & 2 & \\ddots & \\ddots & \\vdots \\\\\n",
    " \\vdots & \\ddots & \\ddots & \\ddots & \\ddots & 0 \\\\\n",
    "  \\vdots & \\cdots & \\ddots & -1 & 2 & -1 \\\\\n",
    "  0 & \\cdots & \\cdots & 0 & -1 & 2 \\\\\n",
    " \n",
    " \\end{pmatrix}\n",
    " $$ \n",
    "\n"
   ]
  },
  {
   "cell_type": "code",
   "execution_count": 3,
   "metadata": {},
   "outputs": [],
   "source": [
    "# Réponse : \n",
    "def matrice(n):\n",
    "    A = np.zeros((n, n)) + np.diag([2 for i in range(0, n)]);\n",
    "    for x in range(0, n):\n",
    "        for y in range(0, n):\n",
    "            if abs(x-y) == 1:\n",
    "                A[x, y] = -1\n",
    "    return A"
   ]
  },
  {
   "cell_type": "code",
   "execution_count": 4,
   "metadata": {},
   "outputs": [
    {
     "ename": "NameError",
     "evalue": "name 'np' is not defined",
     "output_type": "error",
     "traceback": [
      "\u001B[1;31m---------------------------------------------------------------------------\u001B[0m",
      "\u001B[1;31mNameError\u001B[0m                                 Traceback (most recent call last)",
      "Cell \u001B[1;32mIn[4], line 2\u001B[0m\n\u001B[0;32m      1\u001B[0m \u001B[38;5;66;03m# test de la fonction matrice()\u001B[39;00m\n\u001B[1;32m----> 2\u001B[0m \u001B[43mmatrice\u001B[49m\u001B[43m(\u001B[49m\u001B[38;5;241;43m5\u001B[39;49m\u001B[43m)\u001B[49m\n",
      "Cell \u001B[1;32mIn[3], line 3\u001B[0m, in \u001B[0;36mmatrice\u001B[1;34m(n)\u001B[0m\n\u001B[0;32m      2\u001B[0m \u001B[38;5;28;01mdef\u001B[39;00m \u001B[38;5;21mmatrice\u001B[39m(n):\n\u001B[1;32m----> 3\u001B[0m     A \u001B[38;5;241m=\u001B[39m \u001B[43mnp\u001B[49m\u001B[38;5;241m.\u001B[39mzeros((n, n)) \u001B[38;5;241m+\u001B[39m np\u001B[38;5;241m.\u001B[39mdiag([\u001B[38;5;241m2\u001B[39m \u001B[38;5;28;01mfor\u001B[39;00m i \u001B[38;5;129;01min\u001B[39;00m \u001B[38;5;28mrange\u001B[39m(\u001B[38;5;241m0\u001B[39m, n)]);\n\u001B[0;32m      4\u001B[0m     \u001B[38;5;28;01mfor\u001B[39;00m x \u001B[38;5;129;01min\u001B[39;00m \u001B[38;5;28mrange\u001B[39m(\u001B[38;5;241m0\u001B[39m, n):\n\u001B[0;32m      5\u001B[0m         \u001B[38;5;28;01mfor\u001B[39;00m y \u001B[38;5;129;01min\u001B[39;00m \u001B[38;5;28mrange\u001B[39m(\u001B[38;5;241m0\u001B[39m, n):\n",
      "\u001B[1;31mNameError\u001B[0m: name 'np' is not defined"
     ]
    }
   ],
   "source": [
    "# test de la fonction matrice()\n",
    "matrice(5)"
   ]
  },
  {
   "attachments": {},
   "cell_type": "markdown",
   "metadata": {},
   "source": [
    "La fonction `numpy.arange()` permet de construire des tableaux à une dimension de suite de nombres : \n",
    "\n",
    "L'instruction `numpy.arange(a,b,step)` constuit le tableau de tous les nombres  : \n",
    " $$ a + k*step \\quad \\text{ pour } \\quad k=0,1,... \\quad \\text{ et tels que } \\quad a+ k*step<b $$"
   ]
  },
  {
   "cell_type": "code",
   "execution_count": 5,
   "metadata": {},
   "outputs": [
    {
     "ename": "NameError",
     "evalue": "name 'np' is not defined",
     "output_type": "error",
     "traceback": [
      "\u001B[1;31m---------------------------------------------------------------------------\u001B[0m",
      "\u001B[1;31mNameError\u001B[0m                                 Traceback (most recent call last)",
      "Cell \u001B[1;32mIn[5], line 1\u001B[0m\n\u001B[1;32m----> 1\u001B[0m \u001B[38;5;28mprint\u001B[39m(\u001B[43mnp\u001B[49m\u001B[38;5;241m.\u001B[39marange(\u001B[38;5;241m10\u001B[39m)) \u001B[38;5;66;03m# liste des entiers de 0 à 9\u001B[39;00m\n\u001B[0;32m      2\u001B[0m \u001B[38;5;28mprint\u001B[39m(\u001B[38;5;28mtype\u001B[39m(np\u001B[38;5;241m.\u001B[39marange(\u001B[38;5;241m10\u001B[39m))) \n\u001B[0;32m      4\u001B[0m \u001B[38;5;28mprint\u001B[39m(np\u001B[38;5;241m.\u001B[39marange(\u001B[38;5;241m3\u001B[39m,\u001B[38;5;241m10\u001B[39m)) \u001B[38;5;66;03m# liste des entiers de 3 à 9\u001B[39;00m\n",
      "\u001B[1;31mNameError\u001B[0m: name 'np' is not defined"
     ]
    }
   ],
   "source": [
    "print(np.arange(10)) # liste des entiers de 0 à 9\n",
    "print(type(np.arange(10))) \n",
    "\n",
    "print(np.arange(3,10)) # liste des entiers de 3 à 9\n",
    "print(np.arange(3,10,2)) # liste des entiers de 3 à 9 par pas de 2\n",
    "print(np.arange(0,1,0.1)) # liste les nombres x de 0 à 0.9 par pas de 0.1"
   ]
  },
  {
   "attachments": {},
   "cell_type": "markdown",
   "metadata": {},
   "source": [
    "**Remarque :** pour des listes d’entiers dans une boucle for, on pourra utiliser de manière\n",
    "équivalente la fonction range : \n",
    "\n",
    "```python\n",
    "for i in np.arange(10): \n",
    "    print(i) # liste des entiers de 0 à 9\n",
    "```\n",
    "\n",
    "est similaire à : \n",
    "```python \n",
    "for i in range(10):\n",
    "     print(i)\n",
    "``` \n",
    "La différence est que `range(10)` définit un ”iterateur”, alors que `arange(10)` crée un tableau d’entiers, ensuite parcouru par la variable i. Pour des boucles sur des très grands nombres, il vaut mieux utiliser range."
   ]
  },
  {
   "attachments": {},
   "cell_type": "markdown",
   "metadata": {},
   "source": [
    "----\n",
    "## 5. Opérations sur les tableaux ndarray : calcul matriciel"
   ]
  },
  {
   "attachments": {},
   "cell_type": "markdown",
   "metadata": {},
   "source": [
    "##### **Question 5 :**  Les opérateurs + et * \n",
    "Exécutez et comprenez les commandes suivantes : "
   ]
  },
  {
   "cell_type": "code",
   "execution_count": 6,
   "metadata": {},
   "outputs": [
    {
     "name": "stdout",
     "output_type": "stream",
     "text": [
      "T :  [[4, 5], [6, 7]]\n",
      "U :  [[4, 5], [6, 7]]\n",
      "T+U :  [[0, 1], [2, 3], [4, 5], [6, 7]]\n",
      "2*T :  [[0, 1], [2, 3], [0, 1], [2, 3]]\n",
      "T*2 :  [[0, 1], [2, 3], [0, 1], [2, 3]]\n"
     ]
    },
    {
     "ename": "TypeError",
     "evalue": "can't multiply sequence by non-int of type 'list'",
     "output_type": "error",
     "traceback": [
      "\u001B[1;31m---------------------------------------------------------------------------\u001B[0m",
      "\u001B[1;31mTypeError\u001B[0m                                 Traceback (most recent call last)",
      "Cell \u001B[1;32mIn[6], line 10\u001B[0m\n\u001B[0;32m      8\u001B[0m \u001B[38;5;28mprint\u001B[39m(\u001B[38;5;124m\"\u001B[39m\u001B[38;5;124m2*T : \u001B[39m\u001B[38;5;124m\"\u001B[39m,\u001B[38;5;241m2\u001B[39m\u001B[38;5;241m*\u001B[39mT)\n\u001B[0;32m      9\u001B[0m \u001B[38;5;28mprint\u001B[39m(\u001B[38;5;124m\"\u001B[39m\u001B[38;5;124mT*2 : \u001B[39m\u001B[38;5;124m\"\u001B[39m,T\u001B[38;5;241m*\u001B[39m\u001B[38;5;241m2\u001B[39m)\n\u001B[1;32m---> 10\u001B[0m \u001B[38;5;28mprint\u001B[39m(\u001B[38;5;124m\"\u001B[39m\u001B[38;5;124mT*U: \u001B[39m\u001B[38;5;124m\"\u001B[39m,\u001B[43mT\u001B[49m\u001B[38;5;241;43m*\u001B[39;49m\u001B[43mU\u001B[49m) \n",
      "\u001B[1;31mTypeError\u001B[0m: can't multiply sequence by non-int of type 'list'"
     ]
    }
   ],
   "source": [
    "# Sans NumPy, avec le type list\n",
    "# Opérateurs + et * sur des listes de listes  \n",
    "T=[[0,1],[2,3]] \n",
    "U=[[4,5],[6,7]]\n",
    "print(\"T : \",U)\n",
    "print(\"U : \",U)\n",
    "print(\"T+U : \",T+U)\n",
    "print(\"2*T : \",2*T)\n",
    "print(\"T*2 : \",T*2)\n",
    "print(\"T*U: \",T*U) "
   ]
  },
  {
   "cell_type": "code",
   "execution_count": 7,
   "metadata": {},
   "outputs": [
    {
     "ename": "NameError",
     "evalue": "name 'np' is not defined",
     "output_type": "error",
     "traceback": [
      "\u001B[1;31m---------------------------------------------------------------------------\u001B[0m",
      "\u001B[1;31mNameError\u001B[0m                                 Traceback (most recent call last)",
      "Cell \u001B[1;32mIn[7], line 3\u001B[0m\n\u001B[0;32m      1\u001B[0m \u001B[38;5;66;03m# Avec NumPy et le type ndarray\u001B[39;00m\n\u001B[0;32m      2\u001B[0m \u001B[38;5;66;03m# Opérateurs + et * sur des tableaux ndarray : \u001B[39;00m\n\u001B[1;32m----> 3\u001B[0m A\u001B[38;5;241m=\u001B[39m \u001B[43mnp\u001B[49m\u001B[38;5;241m.\u001B[39marray([[\u001B[38;5;241m1\u001B[39m,\u001B[38;5;241m2\u001B[39m,\u001B[38;5;241m3\u001B[39m], [\u001B[38;5;241m3\u001B[39m,\u001B[38;5;241m4\u001B[39m,\u001B[38;5;241m1\u001B[39m]])\n\u001B[0;32m      4\u001B[0m B\u001B[38;5;241m=\u001B[39m np\u001B[38;5;241m.\u001B[39marray([[\u001B[38;5;241m4\u001B[39m,\u001B[38;5;241m6\u001B[39m,\u001B[38;5;241m1\u001B[39m], [\u001B[38;5;241m1\u001B[39m,\u001B[38;5;241m1\u001B[39m,\u001B[38;5;241m1\u001B[39m]])\n\u001B[0;32m      5\u001B[0m \u001B[38;5;28mprint\u001B[39m(\u001B[38;5;124m\"\u001B[39m\u001B[38;5;124mA :\u001B[39m\u001B[38;5;124m\"\u001B[39m,A)\n",
      "\u001B[1;31mNameError\u001B[0m: name 'np' is not defined"
     ]
    }
   ],
   "source": [
    "# Avec NumPy et le type ndarray\n",
    "# Opérateurs + et * sur des tableaux ndarray : \n",
    "A= np.array([[1,2,3], [3,4,1]])\n",
    "B= np.array([[4,6,1], [1,1,1]])\n",
    "print(\"A :\",A)\n",
    "print(\"B : \", B)\n",
    "print(\"A+B :\", A+B)\n",
    "print(\"3*A :\", 3*A)\n",
    "print(\"A*3 :\", A*3)\n",
    "print(\"A*B :\", A*B)"
   ]
  },
  {
   "attachments": {},
   "cell_type": "markdown",
   "metadata": {},
   "source": [
    "**A retenir :** Attention à la commande `A * B`,  il ne s'agit pas du produit matriciel, mais du produit \"terme à terme\".\n",
    "\n",
    "Pour le produit de deux matrices  A\n",
    "et  B (celui qui n'est défini que quand  A possède autant de colonnes que  B a de lignes), il faut utiliser  : \n",
    "\n",
    "`np.matmul(A,B)`    ou     `A @ B`    ou    `np.dot(A,B)` "
   ]
  },
  {
   "cell_type": "code",
   "execution_count": 8,
   "metadata": {},
   "outputs": [
    {
     "ename": "NameError",
     "evalue": "name 'np' is not defined",
     "output_type": "error",
     "traceback": [
      "\u001B[1;31m---------------------------------------------------------------------------\u001B[0m",
      "\u001B[1;31mNameError\u001B[0m                                 Traceback (most recent call last)",
      "Cell \u001B[1;32mIn[8], line 1\u001B[0m\n\u001B[1;32m----> 1\u001B[0m A\u001B[38;5;241m=\u001B[39m \u001B[43mnp\u001B[49m\u001B[38;5;241m.\u001B[39marray([[\u001B[38;5;241m1\u001B[39m,\u001B[38;5;241m2\u001B[39m,\u001B[38;5;241m3\u001B[39m], [\u001B[38;5;241m3\u001B[39m,\u001B[38;5;241m4\u001B[39m,\u001B[38;5;241m1\u001B[39m]])\n\u001B[0;32m      2\u001B[0m C\u001B[38;5;241m=\u001B[39m np\u001B[38;5;241m.\u001B[39marray([[\u001B[38;5;241m4\u001B[39m,\u001B[38;5;241m6\u001B[39m],[\u001B[38;5;241m0\u001B[39m,\u001B[38;5;241m1\u001B[39m],[\u001B[38;5;241m1\u001B[39m,\u001B[38;5;241m2\u001B[39m]])\n\u001B[0;32m      3\u001B[0m \u001B[38;5;28mprint\u001B[39m(np\u001B[38;5;241m.\u001B[39mmatmul(A,C))\n",
      "\u001B[1;31mNameError\u001B[0m: name 'np' is not defined"
     ]
    }
   ],
   "source": [
    "A= np.array([[1,2,3], [3,4,1]])\n",
    "C= np.array([[4,6],[0,1],[1,2]])\n",
    "print(np.matmul(A,C))\n",
    "print(A @ C)\n",
    "print(np.dot(A,C))"
   ]
  },
  {
   "attachments": {},
   "cell_type": "markdown",
   "metadata": {},
   "source": [
    "##### **Question 6 :**\n",
    " \n",
    "Exécutez et comprenez les commandes suivantes: "
   ]
  },
  {
   "cell_type": "code",
   "execution_count": 9,
   "metadata": {},
   "outputs": [
    {
     "ename": "NameError",
     "evalue": "name 'A' is not defined",
     "output_type": "error",
     "traceback": [
      "\u001B[1;31m---------------------------------------------------------------------------\u001B[0m",
      "\u001B[1;31mNameError\u001B[0m                                 Traceback (most recent call last)",
      "Cell \u001B[1;32mIn[9], line 1\u001B[0m\n\u001B[1;32m----> 1\u001B[0m \u001B[43mA\u001B[49m\u001B[38;5;241m-\u001B[39m\u001B[38;5;241m1\u001B[39m\n",
      "\u001B[1;31mNameError\u001B[0m: name 'A' is not defined"
     ]
    }
   ],
   "source": [
    "A-1"
   ]
  },
  {
   "cell_type": "code",
   "execution_count": 10,
   "metadata": {},
   "outputs": [
    {
     "ename": "NameError",
     "evalue": "name 'A' is not defined",
     "output_type": "error",
     "traceback": [
      "\u001B[1;31m---------------------------------------------------------------------------\u001B[0m",
      "\u001B[1;31mNameError\u001B[0m                                 Traceback (most recent call last)",
      "Cell \u001B[1;32mIn[10], line 1\u001B[0m\n\u001B[1;32m----> 1\u001B[0m \u001B[43mA\u001B[49m\u001B[38;5;241m*\u001B[39m\u001B[38;5;241m*\u001B[39m\u001B[38;5;241m2\u001B[39m \n",
      "\u001B[1;31mNameError\u001B[0m: name 'A' is not defined"
     ]
    }
   ],
   "source": [
    "A**2 "
   ]
  },
  {
   "attachments": {},
   "cell_type": "markdown",
   "metadata": {},
   "source": [
    "##### **Question 7 :**\n",
    "On veut, pour une matrice donnée, élever chacun de ses élements au carré puis leur retrancher 1.  \n",
    "Nous allons comparer les temps d'exécutions des deux méthodes suivantes : \n",
    "- avec un tableau ndarray et les opérateurs ** et - \n",
    "- avec une liste de listes et un parcours de chaque élément pour effectuer les opérations de façon itérative. "
   ]
  },
  {
   "cell_type": "code",
   "execution_count": 11,
   "metadata": {},
   "outputs": [
    {
     "ename": "NameError",
     "evalue": "name 'np' is not defined",
     "output_type": "error",
     "traceback": [
      "\u001B[1;31m---------------------------------------------------------------------------\u001B[0m",
      "\u001B[1;31mNameError\u001B[0m                                 Traceback (most recent call last)",
      "Cell \u001B[1;32mIn[11], line 3\u001B[0m\n\u001B[0;32m      1\u001B[0m \u001B[38;5;66;03m# on génére une matrice d'entiers aléatoires de grande taille \u001B[39;00m\n\u001B[0;32m      2\u001B[0m N\u001B[38;5;241m=\u001B[39m \u001B[38;5;241m1000\u001B[39m\n\u001B[1;32m----> 3\u001B[0m A\u001B[38;5;241m=\u001B[39m \u001B[43mnp\u001B[49m\u001B[38;5;241m.\u001B[39mrandom\u001B[38;5;241m.\u001B[39mrandint(\u001B[38;5;241m300\u001B[39m, size\u001B[38;5;241m=\u001B[39m(N,N))\n",
      "\u001B[1;31mNameError\u001B[0m: name 'np' is not defined"
     ]
    }
   ],
   "source": [
    "# on génére une matrice d'entiers aléatoires de grande taille \n",
    "N= 1000\n",
    "A= np.random.randint(300, size=(N,N))"
   ]
  },
  {
   "cell_type": "code",
   "execution_count": 12,
   "metadata": {},
   "outputs": [
    {
     "ename": "NameError",
     "evalue": "name 'A' is not defined",
     "output_type": "error",
     "traceback": [
      "\u001B[1;31m---------------------------------------------------------------------------\u001B[0m",
      "\u001B[1;31mNameError\u001B[0m                                 Traceback (most recent call last)",
      "Cell \u001B[1;32mIn[12], line 2\u001B[0m\n\u001B[0;32m      1\u001B[0m \u001B[38;5;66;03m# faisons une copie de A, mais comme une liste de listes:\u001B[39;00m\n\u001B[1;32m----> 2\u001B[0m B\u001B[38;5;241m=\u001B[39m \u001B[43m[\u001B[49m\u001B[43m \u001B[49m\u001B[43m[\u001B[49m\u001B[43mA\u001B[49m\u001B[43m[\u001B[49m\u001B[43mi\u001B[49m\u001B[43m,\u001B[49m\u001B[43mj\u001B[49m\u001B[43m]\u001B[49m\u001B[43m \u001B[49m\u001B[38;5;28;43;01mfor\u001B[39;49;00m\u001B[43m \u001B[49m\u001B[43mj\u001B[49m\u001B[43m \u001B[49m\u001B[38;5;129;43;01min\u001B[39;49;00m\u001B[43m \u001B[49m\u001B[38;5;28;43mrange\u001B[39;49m\u001B[43m(\u001B[49m\u001B[43mN\u001B[49m\u001B[43m)\u001B[49m\u001B[43m]\u001B[49m\u001B[43m \u001B[49m\u001B[38;5;28;43;01mfor\u001B[39;49;00m\u001B[43m \u001B[49m\u001B[43mi\u001B[49m\u001B[43m \u001B[49m\u001B[38;5;129;43;01min\u001B[39;49;00m\u001B[43m \u001B[49m\u001B[38;5;28;43mrange\u001B[39;49m\u001B[43m(\u001B[49m\u001B[43mN\u001B[49m\u001B[43m)\u001B[49m\u001B[43m]\u001B[49m \n\u001B[0;32m      3\u001B[0m \u001B[38;5;28mtype\u001B[39m(B)  \u001B[38;5;66;03m# confirmation du type list de B\u001B[39;00m\n",
      "Cell \u001B[1;32mIn[12], line 2\u001B[0m, in \u001B[0;36m<listcomp>\u001B[1;34m(.0)\u001B[0m\n\u001B[0;32m      1\u001B[0m \u001B[38;5;66;03m# faisons une copie de A, mais comme une liste de listes:\u001B[39;00m\n\u001B[1;32m----> 2\u001B[0m B\u001B[38;5;241m=\u001B[39m [ \u001B[43m[\u001B[49m\u001B[43mA\u001B[49m\u001B[43m[\u001B[49m\u001B[43mi\u001B[49m\u001B[43m,\u001B[49m\u001B[43mj\u001B[49m\u001B[43m]\u001B[49m\u001B[43m \u001B[49m\u001B[38;5;28;43;01mfor\u001B[39;49;00m\u001B[43m \u001B[49m\u001B[43mj\u001B[49m\u001B[43m \u001B[49m\u001B[38;5;129;43;01min\u001B[39;49;00m\u001B[43m \u001B[49m\u001B[38;5;28;43mrange\u001B[39;49m\u001B[43m(\u001B[49m\u001B[43mN\u001B[49m\u001B[43m)\u001B[49m\u001B[43m]\u001B[49m \u001B[38;5;28;01mfor\u001B[39;00m i \u001B[38;5;129;01min\u001B[39;00m \u001B[38;5;28mrange\u001B[39m(N)] \n\u001B[0;32m      3\u001B[0m \u001B[38;5;28mtype\u001B[39m(B)  \u001B[38;5;66;03m# confirmation du type list de B\u001B[39;00m\n",
      "Cell \u001B[1;32mIn[12], line 2\u001B[0m, in \u001B[0;36m<listcomp>\u001B[1;34m(.0)\u001B[0m\n\u001B[0;32m      1\u001B[0m \u001B[38;5;66;03m# faisons une copie de A, mais comme une liste de listes:\u001B[39;00m\n\u001B[1;32m----> 2\u001B[0m B\u001B[38;5;241m=\u001B[39m [ [\u001B[43mA\u001B[49m[i,j] \u001B[38;5;28;01mfor\u001B[39;00m j \u001B[38;5;129;01min\u001B[39;00m \u001B[38;5;28mrange\u001B[39m(N)] \u001B[38;5;28;01mfor\u001B[39;00m i \u001B[38;5;129;01min\u001B[39;00m \u001B[38;5;28mrange\u001B[39m(N)] \n\u001B[0;32m      3\u001B[0m \u001B[38;5;28mtype\u001B[39m(B)  \u001B[38;5;66;03m# confirmation du type list de B\u001B[39;00m\n",
      "\u001B[1;31mNameError\u001B[0m: name 'A' is not defined"
     ]
    }
   ],
   "source": [
    "# faisons une copie de A, mais comme une liste de listes:\n",
    "B= [ [A[i,j] for j in range(N)] for i in range(N)] \n",
    "type(B)  # confirmation du type list de B"
   ]
  },
  {
   "attachments": {},
   "cell_type": "markdown",
   "metadata": {},
   "source": [
    "Complétez la fonction `test()`qui modifie B comme demandé en parcournant chaque élément de la liste : "
   ]
  },
  {
   "cell_type": "code",
   "execution_count": 13,
   "metadata": {},
   "outputs": [],
   "source": [
    "# réponse\n",
    "def test(B):\n",
    "    for x in range(len(B)):\n",
    "        for y in range(len(B[0])):\n",
    "            B[x][y] = (B[x][y]**2)-1\n",
    "\n",
    "    "
   ]
  },
  {
   "cell_type": "code",
   "execution_count": 14,
   "metadata": {},
   "outputs": [
    {
     "ename": "NameError",
     "evalue": "name 'B' is not defined",
     "output_type": "error",
     "traceback": [
      "\u001B[1;31m---------------------------------------------------------------------------\u001B[0m",
      "\u001B[1;31mNameError\u001B[0m                                 Traceback (most recent call last)",
      "File \u001B[1;32m<timed eval>:1\u001B[0m\n",
      "\u001B[1;31mNameError\u001B[0m: name 'B' is not defined"
     ]
    }
   ],
   "source": [
    "# temps d'exécution \n",
    "%time test(B)  "
   ]
  },
  {
   "cell_type": "code",
   "execution_count": 15,
   "metadata": {},
   "outputs": [
    {
     "ename": "NameError",
     "evalue": "name 'A' is not defined",
     "output_type": "error",
     "traceback": [
      "\u001B[1;31m---------------------------------------------------------------------------\u001B[0m",
      "\u001B[1;31mNameError\u001B[0m                                 Traceback (most recent call last)",
      "File \u001B[1;32m<timed exec>:1\u001B[0m\n",
      "\u001B[1;31mNameError\u001B[0m: name 'A' is not defined"
     ]
    }
   ],
   "source": [
    "# temps d'exécution\n",
    "%time A=A**2-1"
   ]
  },
  {
   "attachments": {},
   "cell_type": "markdown",
   "metadata": {},
   "source": [
    "##### **Question 8 :**\n",
    "\n",
    "Réécrire plus simplement (sans boucle for) les fonctions `addLigne()`et `multLigne()`vues au TP3 pour des matrices stockées sous la forme de tableaux ndarray (et non de listes de listes) : "
   ]
  },
  {
   "cell_type": "code",
   "execution_count": 16,
   "metadata": {},
   "outputs": [],
   "source": [
    "# à compléter \n",
    "# Li <- kLi\n",
    "def multLigneNP(A,k,i):\n",
    "    A[i] *= k\n",
    "\n",
    "\n",
    "\n",
    "\n",
    "# à compléter\n",
    "# Li <- Li + kLj \n",
    "def addLigneNP(A,k,i,j):\n",
    "    A[i] += k*A[j]\n",
    "\n",
    "    "
   ]
  },
  {
   "cell_type": "code",
   "execution_count": 17,
   "metadata": {},
   "outputs": [
    {
     "ename": "NameError",
     "evalue": "name 'np' is not defined",
     "output_type": "error",
     "traceback": [
      "\u001B[1;31m---------------------------------------------------------------------------\u001B[0m",
      "\u001B[1;31mNameError\u001B[0m                                 Traceback (most recent call last)",
      "Cell \u001B[1;32mIn[17], line 2\u001B[0m\n\u001B[0;32m      1\u001B[0m \u001B[38;5;66;03m# test des fonctions addLigneNP() et multLigneNP() : \u001B[39;00m\n\u001B[1;32m----> 2\u001B[0m A \u001B[38;5;241m=\u001B[39m \u001B[43mnp\u001B[49m\u001B[38;5;241m.\u001B[39mones((\u001B[38;5;241m3\u001B[39m, \u001B[38;5;241m3\u001B[39m))\n\u001B[0;32m      3\u001B[0m addLigneNP(A, \u001B[38;5;241m2\u001B[39m, \u001B[38;5;241m1\u001B[39m, \u001B[38;5;241m2\u001B[39m)\n\u001B[0;32m      4\u001B[0m multLigneNP(A, \u001B[38;5;241m4\u001B[39m, \u001B[38;5;241m0\u001B[39m)\n",
      "\u001B[1;31mNameError\u001B[0m: name 'np' is not defined"
     ]
    }
   ],
   "source": [
    "# test des fonctions addLigneNP() et multLigneNP() : \n",
    "A = np.ones((3, 3))\n",
    "addLigneNP(A, 2, 1, 2)\n",
    "multLigneNP(A, 4, 0)\n",
    "print(A)"
   ]
  },
  {
   "attachments": {},
   "cell_type": "markdown",
   "metadata": {},
   "source": [
    "----\n",
    "## 6. Le module numpy.linalg\n",
    "\n",
    "Le module `linalg` (pour *algèbre linéaire*) de la bibliothèque NumPy est un ensemble d'outils mathématiques pour effectuer des calculs matriciels et ou des calculs linéaires en Python. Il contient des fonctions pour résoudre des systèmes d'équations linéaires, calculer les valeurs et vecteurs propres d'une matrice, déterminer la décomposition de matrices, etc. Il est souvent utilisé pour résoudre des problèmes de traitement d'images, de reconnaissance de formes, de traitement du signal et d'apprentissage automatique. Ces fonctions sont utiles pour résoudre des problèmes liés à l'analyse numérique et à la science des données."
   ]
  },
  {
   "cell_type": "code",
   "execution_count": 18,
   "metadata": {},
   "outputs": [],
   "source": [
    "import numpy.linalg as alg"
   ]
  },
  {
   "attachments": {},
   "cell_type": "markdown",
   "metadata": {},
   "source": [
    "La fonction `inv` du module numpy.linalg renvoie l’inverse d'une matrice carrée si elle existe."
   ]
  },
  {
   "cell_type": "code",
   "execution_count": 19,
   "metadata": {},
   "outputs": [
    {
     "ename": "NameError",
     "evalue": "name 'np' is not defined",
     "output_type": "error",
     "traceback": [
      "\u001B[1;31m---------------------------------------------------------------------------\u001B[0m",
      "\u001B[1;31mNameError\u001B[0m                                 Traceback (most recent call last)",
      "Cell \u001B[1;32mIn[19], line 1\u001B[0m\n\u001B[1;32m----> 1\u001B[0m A \u001B[38;5;241m=\u001B[39m \u001B[43mnp\u001B[49m\u001B[38;5;241m.\u001B[39mdiag([\u001B[38;5;241m1\u001B[39m,\u001B[38;5;241m3\u001B[39m,\u001B[38;5;241m5\u001B[39m,\u001B[38;5;241m8\u001B[39m])\n\u001B[0;32m      2\u001B[0m A\n\u001B[0;32m      3\u001B[0m alg\u001B[38;5;241m.\u001B[39minv(A)\n",
      "\u001B[1;31mNameError\u001B[0m: name 'np' is not defined"
     ]
    }
   ],
   "source": [
    "A = np.diag([1,3,5,8])\n",
    "A\n",
    "alg.inv(A)"
   ]
  },
  {
   "attachments": {},
   "cell_type": "markdown",
   "metadata": {},
   "source": [
    "Pour résoudre le système linéaire $AX=B$  lorsque la matrice $A$ est inversible (système de Cramer), on peut employer la fonction `solve(A,B)` du module numpy.linalg : "
   ]
  },
  {
   "attachments": {},
   "cell_type": "markdown",
   "metadata": {},
   "source": [
    "##### **Question 9 :** \n",
    "Reprendre le système de Cramer $AX=B$ utilisé comme exemple lors du TP3 (voir document exempleGauss.pdf) et utiliser `solve` pour retourver sa solution."
   ]
  },
  {
   "cell_type": "code",
   "execution_count": 20,
   "outputs": [
    {
     "name": "stdout",
     "output_type": "stream",
     "text": [
      "Help on function inv in module numpy.linalg:\n",
      "\n",
      "inv(a)\n",
      "    Compute the (multiplicative) inverse of a matrix.\n",
      "    \n",
      "    Given a square matrix `a`, return the matrix `ainv` satisfying\n",
      "    ``dot(a, ainv) = dot(ainv, a) = eye(a.shape[0])``.\n",
      "    \n",
      "    Parameters\n",
      "    ----------\n",
      "    a : (..., M, M) array_like\n",
      "        Matrix to be inverted.\n",
      "    \n",
      "    Returns\n",
      "    -------\n",
      "    ainv : (..., M, M) ndarray or matrix\n",
      "        (Multiplicative) inverse of the matrix `a`.\n",
      "    \n",
      "    Raises\n",
      "    ------\n",
      "    LinAlgError\n",
      "        If `a` is not square or inversion fails.\n",
      "    \n",
      "    See Also\n",
      "    --------\n",
      "    scipy.linalg.inv : Similar function in SciPy.\n",
      "    \n",
      "    Notes\n",
      "    -----\n",
      "    \n",
      "    .. versionadded:: 1.8.0\n",
      "    \n",
      "    Broadcasting rules apply, see the `numpy.linalg` documentation for\n",
      "    details.\n",
      "    \n",
      "    Examples\n",
      "    --------\n",
      "    >>> from numpy.linalg import inv\n",
      "    >>> a = np.array([[1., 2.], [3., 4.]])\n",
      "    >>> ainv = inv(a)\n",
      "    >>> np.allclose(np.dot(a, ainv), np.eye(2))\n",
      "    True\n",
      "    >>> np.allclose(np.dot(ainv, a), np.eye(2))\n",
      "    True\n",
      "    \n",
      "    If a is a matrix object, then the return value is a matrix as well:\n",
      "    \n",
      "    >>> ainv = inv(np.matrix(a))\n",
      "    >>> ainv\n",
      "    matrix([[-2. ,  1. ],\n",
      "            [ 1.5, -0.5]])\n",
      "    \n",
      "    Inverses of several matrices can be computed at once:\n",
      "    \n",
      "    >>> a = np.array([[[1., 2.], [3., 4.]], [[1, 3], [3, 5]]])\n",
      "    >>> inv(a)\n",
      "    array([[[-2.  ,  1.  ],\n",
      "            [ 1.5 , -0.5 ]],\n",
      "           [[-1.25,  0.75],\n",
      "            [ 0.75, -0.25]]])\n",
      "\n"
     ]
    }
   ],
   "source": [
    "help(alg.inv)"
   ],
   "metadata": {
    "collapsed": false
   }
  },
  {
   "cell_type": "code",
   "execution_count": 21,
   "metadata": {},
   "outputs": [
    {
     "ename": "NameError",
     "evalue": "name 'np' is not defined",
     "output_type": "error",
     "traceback": [
      "\u001B[1;31m---------------------------------------------------------------------------\u001B[0m",
      "\u001B[1;31mNameError\u001B[0m                                 Traceback (most recent call last)",
      "Cell \u001B[1;32mIn[21], line 2\u001B[0m\n\u001B[0;32m      1\u001B[0m \u001B[38;5;66;03m# réponse \u001B[39;00m\n\u001B[1;32m----> 2\u001B[0m A\u001B[38;5;241m=\u001B[39m\u001B[43mnp\u001B[49m\u001B[38;5;241m.\u001B[39marray([[\u001B[38;5;241m1\u001B[39m,\u001B[38;5;241m-\u001B[39m\u001B[38;5;241m1\u001B[39m,\u001B[38;5;241m2\u001B[39m,\u001B[38;5;241m1\u001B[39m],[\u001B[38;5;241m2\u001B[39m,\u001B[38;5;241m-\u001B[39m\u001B[38;5;241m3\u001B[39m,\u001B[38;5;241m5\u001B[39m,\u001B[38;5;241m2\u001B[39m],[\u001B[38;5;241m3\u001B[39m,\u001B[38;5;241m2\u001B[39m,\u001B[38;5;241m1\u001B[39m,\u001B[38;5;241m2\u001B[39m],[\u001B[38;5;241m1\u001B[39m,\u001B[38;5;241m1\u001B[39m,\u001B[38;5;241m-\u001B[39m\u001B[38;5;241m1\u001B[39m,\u001B[38;5;241m-\u001B[39m\u001B[38;5;241m3\u001B[39m]])\n\u001B[0;32m      3\u001B[0m B\u001B[38;5;241m=\u001B[39mnp\u001B[38;5;241m.\u001B[39marray([[\u001B[38;5;241m1\u001B[39m],[\u001B[38;5;241m3\u001B[39m],[\u001B[38;5;241m0\u001B[39m],[\u001B[38;5;241m0\u001B[39m]])\n\u001B[0;32m      4\u001B[0m C \u001B[38;5;241m=\u001B[39m alg\u001B[38;5;241m.\u001B[39msolve(A, B)\n",
      "\u001B[1;31mNameError\u001B[0m: name 'np' is not defined"
     ]
    }
   ],
   "source": [
    "# réponse \n",
    "A=np.array([[1,-1,2,1],[2,-3,5,2],[3,2,1,2],[1,1,-1,-3]])\n",
    "B=np.array([[1],[3],[0],[0]])\n",
    "C = alg.solve(A, B)\n",
    "C"
   ]
  },
  {
   "attachments": {},
   "cell_type": "markdown",
   "metadata": {},
   "source": [
    "##### **Question 10 :**\n",
    "\n",
    "Retrouvez la solution du système précédent en utilisant l'inverse de A : "
   ]
  },
  {
   "cell_type": "code",
   "execution_count": 22,
   "metadata": {},
   "outputs": [
    {
     "ename": "NameError",
     "evalue": "name 'np' is not defined",
     "output_type": "error",
     "traceback": [
      "\u001B[1;31m---------------------------------------------------------------------------\u001B[0m",
      "\u001B[1;31mNameError\u001B[0m                                 Traceback (most recent call last)",
      "Cell \u001B[1;32mIn[22], line 2\u001B[0m\n\u001B[0;32m      1\u001B[0m \u001B[38;5;66;03m# réponse\u001B[39;00m\n\u001B[1;32m----> 2\u001B[0m A\u001B[38;5;241m=\u001B[39m\u001B[43mnp\u001B[49m\u001B[38;5;241m.\u001B[39marray([[\u001B[38;5;241m1\u001B[39m,\u001B[38;5;241m-\u001B[39m\u001B[38;5;241m1\u001B[39m,\u001B[38;5;241m2\u001B[39m,\u001B[38;5;241m1\u001B[39m],[\u001B[38;5;241m2\u001B[39m,\u001B[38;5;241m-\u001B[39m\u001B[38;5;241m3\u001B[39m,\u001B[38;5;241m5\u001B[39m,\u001B[38;5;241m2\u001B[39m],[\u001B[38;5;241m3\u001B[39m,\u001B[38;5;241m2\u001B[39m,\u001B[38;5;241m1\u001B[39m,\u001B[38;5;241m2\u001B[39m],[\u001B[38;5;241m1\u001B[39m,\u001B[38;5;241m1\u001B[39m,\u001B[38;5;241m-\u001B[39m\u001B[38;5;241m1\u001B[39m,\u001B[38;5;241m-\u001B[39m\u001B[38;5;241m3\u001B[39m]])\n\u001B[0;32m      3\u001B[0m B\u001B[38;5;241m=\u001B[39mnp\u001B[38;5;241m.\u001B[39marray([[\u001B[38;5;241m1\u001B[39m],[\u001B[38;5;241m3\u001B[39m],[\u001B[38;5;241m0\u001B[39m],[\u001B[38;5;241m0\u001B[39m]])\n\u001B[0;32m      4\u001B[0m sol \u001B[38;5;241m=\u001B[39m alg\u001B[38;5;241m.\u001B[39minv(A)\u001B[38;5;129m@B\u001B[39m\n",
      "\u001B[1;31mNameError\u001B[0m: name 'np' is not defined"
     ]
    }
   ],
   "source": [
    "# réponse\n",
    "A=np.array([[1,-1,2,1],[2,-3,5,2],[3,2,1,2],[1,1,-1,-3]])\n",
    "B=np.array([[1],[3],[0],[0]])\n",
    "sol = alg.inv(A)@B\n",
    "sol"
   ]
  },
  {
   "cell_type": "code",
   "execution_count": null,
   "outputs": [],
   "source": [],
   "metadata": {
    "collapsed": false,
    "pycharm": {
     "is_executing": true
    }
   }
  },
  {
   "cell_type": "code",
   "execution_count": 22,
   "outputs": [],
   "source": [],
   "metadata": {
    "collapsed": false
   }
  }
 ],
 "metadata": {
  "kernelspec": {
   "display_name": "Python 3",
   "language": "python",
   "name": "python3"
  },
  "language_info": {
   "codemirror_mode": {
    "name": "ipython",
    "version": 3
   },
   "file_extension": ".py",
   "mimetype": "text/x-python",
   "name": "python",
   "nbconvert_exporter": "python",
   "pygments_lexer": "ipython3",
   "version": "3.9.2 (v3.9.2:1a79785e3e, Feb 19 2021, 09:06:10) \n[Clang 6.0 (clang-600.0.57)]"
  },
  "vscode": {
   "interpreter": {
    "hash": "aee8b7b246df8f9039afb4144a1f6fd8d2ca17a180786b69acc140d282b71a49"
   }
  }
 },
 "nbformat": 4,
 "nbformat_minor": 2
}

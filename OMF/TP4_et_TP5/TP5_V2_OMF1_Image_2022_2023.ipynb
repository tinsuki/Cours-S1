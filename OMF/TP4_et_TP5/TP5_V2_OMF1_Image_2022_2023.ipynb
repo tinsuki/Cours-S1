{
 "cells": [
  {
   "attachments": {},
   "cell_type": "markdown",
   "metadata": {},
   "source": [
    "# TP5 :  introduction au traitement d'image avec NumPy "
   ]
  },
  {
   "attachments": {},
   "cell_type": "markdown",
   "metadata": {},
   "source": [
    "---\n",
    "## 1. Caractéristique d'un fichier d'image PNG et format de codage RVBA\n",
    "\n",
    "*PNG est particulièrement approprié lorsqu’il s’agit d’enregistrer des images synthétiques destinées au Web comme des graphiques, des icônes, des images représentant du texte (bonne conservation de la lisibilité), ou des images avec des dégradés. Le PNG surpasse régulièrement le format GIF en ce qui concerne la réduction de la taille des fichiers (avec une palette de couleurs bien choisie) ou la qualité (puisqu’il n’est pas limité à 256 couleurs). (source wikipédia)*\n",
    "\n",
    "Le format que l'on utilisera est PNG en « couleurs vraies » où le codage des pixels sera au **format RVBA** : \n",
    "\n",
    "Le format RVBA (rouge, vert, bleu, alpha) est un format couramment utilisé pour coder les couleurs des pixels dans une image numérique.\n",
    "\n",
    "Chaque pixel est codé sur quatre octets (8 bits chacun) pour stocker les valeurs de rouge (R), vert (V), bleu (B) et alpha (transparence) pour chaque pixel. \n",
    "\n",
    "Les valeurs de rouge, vert et bleu peuvent varier de 0 à 255, ce qui permet de représenter plus de 16 millions de couleurs différentes ($256^3=2^{24}$). On utilise la synthèse additive des couleurs : le triplet (0, 0, 0) correspond à un pixel noir alors qu’un pixel blanc est donné par (255, 255, 255). Un pixel « pur rouge » est codé par (255, 0, 0).\n",
    "\n",
    "La valeur alpha peut varier de 0 (transparent) à 255 (opaque) et permet de spécifier la transparence d'un pixel. \n",
    "\n",
    "En utilisant ces quatre canaux de couleur, RVBA permet de créer des images riches en couleurs et en détails.\n",
    "La présence d’un canal alpha définissant différents niveaux de transparence le rend idéal pour la composition sur les pages web. Cette caractéristique est bien implémentée par la majorité des navigateurs web. \n"
   ]
  },
  {
   "attachments": {},
   "cell_type": "markdown",
   "metadata": {},
   "source": [
    "---\n",
    "## 2. Ouverture d'un fichier PNG\n",
    "\n",
    "Pour ouvrir un fichier PNG on pourra utiliser le sous-module **Image** de la bibliothèque **pillow** (`from PIL import Image`). \n",
    "\n",
    "La fonction `open()` du module Image retourne un objet PIL de type image. \n",
    "\n",
    "A partir de cet objet il est possible de réaliser un certain nombre d'opérations :\n",
    "* **show()** : fonction affichant l'objet image\n",
    "\n",
    "* **width** : attribut contenant la largeur de l'image en pixels\n",
    "\n",
    "* **height** : attribut contenant la hauteur de l'image en pixels\n",
    "\n",
    "* **mode** : attribut contenant le mode de codage de l'image :  \n",
    "    * \"1\" pour les images en noir et blanc.\n",
    "    * \"L\" pour les images en niveaux de gris.\n",
    "    * \"P\" pour les images indexées.\n",
    "    * \"RGB\" pour les images couleur avec des composantes rouge, verte et bleue.\n",
    "    * \"RGBA\" pour les images couleur avec des composantes rouge, verte et bleue et un canal alpha\n",
    "    * \"CMYK\" pour les images en mode cyan, magenta, jaune et noir.\n"
   ]
  },
  {
   "cell_type": "code",
   "execution_count": 3,
   "metadata": {},
   "outputs": [
    {
     "name": "stdout",
     "output_type": "stream",
     "text": [
      "<class 'PIL.PngImagePlugin.PngImageFile'>\n",
      "Taille de l'image en pixel 948 x 730\n",
      "RGBA\n"
     ]
    }
   ],
   "source": [
    "# installation du module PIL si necessaire : \n",
    "# pip install pillow\n",
    "\n",
    "# importation du sous-module Image du module PIL\n",
    "from PIL import Image \n",
    "\n",
    "# Ouverture/Chargement de l'image dans un objet PIL de type Image\n",
    "image = Image.open(\"santa-claus.png\") \n",
    "\n",
    "# Information sur l'image \n",
    "print(type(image))\n",
    "print(\"Taille de l'image en pixel\", image.height,\"x\",image.width)\n",
    "print(image.mode)\n",
    "\n",
    "# affichage de l'image\n",
    "image.show()"
   ]
  },
  {
   "attachments": {},
   "cell_type": "markdown",
   "metadata": {},
   "source": [
    "----\n",
    "## 3. Récupération de l'image sous la forme d'un tableau 3D"
   ]
  },
  {
   "cell_type": "code",
   "execution_count": 4,
   "metadata": {},
   "outputs": [],
   "source": [
    "# !pip3 install numpy\n",
    "import numpy as np"
   ]
  },
  {
   "attachments": {},
   "cell_type": "markdown",
   "metadata": {},
   "source": [
    "La séquence Python `ìmageTab = np.array(image)`  récupére la liste des pixel de l'image sous la forme d'un tableau ndarray : "
   ]
  },
  {
   "cell_type": "code",
   "execution_count": 3,
   "metadata": {},
   "outputs": [],
   "source": [
    "imageTab=np.array(image)"
   ]
  },
  {
   "attachments": {},
   "cell_type": "markdown",
   "metadata": {},
   "source": [
    "##### **Question 1 :** Vérifiez que ce tableau est *tri-dimensionnel* de taille $h \\times l \\times 4 $ où \n",
    "* $h$ est la hauteur de l’image en nombre de pixel \n",
    "* $l$ sa largeur en nombre de pixel \n",
    "* 4 sa profondeur correspondant aux 4 canaux : R, G, B et le canal alpha. \n",
    "\n",
    "et affichez-le"
   ]
  },
  {
   "cell_type": "code",
   "execution_count": 4,
   "metadata": {},
   "outputs": [
    {
     "name": "stdout",
     "output_type": "stream",
     "text": [
      "La taille est bonne\n"
     ]
    }
   ],
   "source": [
    "# réponse :\n",
    "if imageTab.shape[0]==image.height and imageTab.shape[1]==image.width and imageTab.shape[2]==4:\n",
    "    print(\"La taille est bonne\")\n",
    "else :\n",
    "    print(\"La taille n'est pas bonne\")\n"
   ]
  },
  {
   "attachments": {},
   "cell_type": "markdown",
   "metadata": {},
   "source": [
    "##### **Question 2 :** Extraire dans une variable R le sous-tableau 2D correspondant au canal rouge. Vérifiez sa dimension."
   ]
  },
  {
   "cell_type": "code",
   "execution_count": 5,
   "outputs": [
    {
     "name": "stdout",
     "output_type": "stream",
     "text": [
      "[[[255 255 255   0]\n",
      "  [255 255 255   0]\n",
      "  [255 255 255   0]\n",
      "  ...\n",
      "  [255 255 255   0]\n",
      "  [255 255 255   0]\n",
      "  [255 255 255   0]]\n",
      "\n",
      " [[255 255 255   0]\n",
      "  [255 255 255   0]\n",
      "  [255 255 255   0]\n",
      "  ...\n",
      "  [255 255 255   0]\n",
      "  [255 255 255   0]\n",
      "  [255 255 255   0]]\n",
      "\n",
      " [[255 255 255   0]\n",
      "  [255 255 255   0]\n",
      "  [255 255 255   0]\n",
      "  ...\n",
      "  [255 255 255   0]\n",
      "  [255 255 255   0]\n",
      "  [255 255 255   0]]\n",
      "\n",
      " ...\n",
      "\n",
      " [[255 255 255   0]\n",
      "  [255 255 255   0]\n",
      "  [255 255 255   0]\n",
      "  ...\n",
      "  [255 255 255   0]\n",
      "  [255 255 255   0]\n",
      "  [255 255 255   0]]\n",
      "\n",
      " [[255 255 255   0]\n",
      "  [255 255 255   0]\n",
      "  [255 255 255   0]\n",
      "  ...\n",
      "  [255 255 255   0]\n",
      "  [255 255 255   0]\n",
      "  [255 255 255   0]]\n",
      "\n",
      " [[255 255 255   0]\n",
      "  [255 255 255   0]\n",
      "  [255 255 255   0]\n",
      "  ...\n",
      "  [255 255 255   0]\n",
      "  [255 255 255   0]\n",
      "  [255 255 255   0]]]\n"
     ]
    }
   ],
   "source": [
    "print(imageTab)"
   ],
   "metadata": {
    "collapsed": false
   }
  },
  {
   "cell_type": "code",
   "execution_count": 6,
   "metadata": {},
   "outputs": [
    {
     "data": {
      "text/plain": "array([[255, 255, 255, ..., 255, 255, 255],\n       [255, 255, 255, ..., 255, 255, 255],\n       [255, 255, 255, ..., 255, 255, 255],\n       ...,\n       [255, 255, 255, ..., 255, 255, 255],\n       [255, 255, 255, ..., 255, 255, 255],\n       [255, 255, 255, ..., 255, 255, 255]], dtype=uint8)"
     },
     "execution_count": 6,
     "metadata": {},
     "output_type": "execute_result"
    }
   ],
   "source": [
    "# réponse\n",
    "R = np.array([[rvb[0] for rvb in colone] for colone in imageTab])\n",
    "R1 = imageTab[::,::,0]\n",
    "R1"
   ]
  },
  {
   "attachments": {},
   "cell_type": "markdown",
   "metadata": {},
   "source": [
    "##### **Question 3 :** Choisir un pixel particulier et affichez son codage "
   ]
  },
  {
   "cell_type": "code",
   "execution_count": 7,
   "metadata": {},
   "outputs": [
    {
     "data": {
      "text/plain": "array([241, 241, 241, 255], dtype=uint8)"
     },
     "execution_count": 7,
     "metadata": {},
     "output_type": "execute_result"
    }
   ],
   "source": [
    "# réponse\n",
    "def getPixel(ImageArray, x, y):\n",
    "    return ImageArray[x][y]\n",
    "\n",
    "getPixel(imageTab, 500, 500)"
   ]
  },
  {
   "attachments": {},
   "cell_type": "markdown",
   "metadata": {},
   "source": [
    "----\n",
    "## 4. Modifications de l'image\n",
    "\n",
    "Dans la suite, on va jouer avec les images en les modifiant. Pour cela, il suffit de modifier le tableau ndarray associé\n",
    "(ou d’en créer un nouveau). Voyons comment obtenir une image à partir d’un tableau ndarray :\n",
    "\n",
    "```python\n",
    "# tab est un tableau ndarray 3D\n",
    "nouvelle_image=Image.fromarray(tab)\n",
    "\n",
    "# pour afficher l'image\n",
    "nouvelle_image.show() \n",
    "\n",
    "# pour l'enregistrer au format voulu\n",
    "nouvelle_image.save(\"nom_de_la_nouvelle_image.png\") \n",
    "```\n",
    "\n",
    "\n",
    "Le tableau tab doit être composé d’éléments uint8 (c’est-à-dire d’entiers non signés codés sur 8 bits,\n",
    "soit entre 0 et 255). Si ce n’est pas le cas (flottants, entiers codées sur 32 bits...), un message d’erreur comme\n",
    "`TypeError: Cannot handle this data type` s’affiche. \n",
    "\n",
    "\n",
    "Pour créer de nouvelles images, on procédera de deux façons :\n",
    "* en modifiant un tableau Numpy obtenu à partir d’une image : le tableau a déja le bon type ;\n",
    "\n",
    "* en créant un nouveau tableau pour le remplir. Dans ce cas, il faudra veiller à ce que le tableau ait le bon type :\n",
    " Par exemple, on peut créer un tableau de zéros avec \n",
    " \n",
    " `np.zeros((h, l, 4), dtype=\"uint8\")`"
   ]
  },
  {
   "attachments": {},
   "cell_type": "markdown",
   "metadata": {},
   "source": [
    "##### **Qestion 4  : conversion en une image blanche**\n",
    "\n",
    "Ecrivez une fonction `image_blanche()` qui affiche, à partir d'une image PIL donnée en argument, une image blanche de même dimension. \n",
    "\n",
    "Il suffira de mettre, pour tous les pixels, les 4 composantes à 255."
   ]
  },
  {
   "cell_type": "code",
   "execution_count": 8,
   "metadata": {},
   "outputs": [],
   "source": [
    "# réponse : \n",
    "def image_blanche(image):\n",
    "    imageTab=np.array(image)\n",
    "    h,l,r=imageTab.shape \n",
    "    # à compléter\n",
    "    for x in range(h):\n",
    "        for y in range(l):\n",
    "                imageTab[x][y] = [255, 255, 255, 255]\n",
    "\n",
    "\n",
    "\n",
    "    return Image.fromarray(imageTab)# à compléter\n"
   ]
  },
  {
   "cell_type": "code",
   "execution_count": 9,
   "metadata": {},
   "outputs": [],
   "source": [
    "# test \n",
    "image=Image.open(\"santa-claus.png\")\n",
    "image_blanc=image_blanche(image)\n",
    "image_blanc.save(\"C:\\\\Users\\Kevin\\santa-clauss-blanc.png\")\n",
    "\n",
    "# visualisation de l'image \n",
    "# prb d'affichage sur les machines des salles TP \n",
    "# à décommenter si ordinateur personnel\n",
    "image_blanc.show()"
   ]
  },
  {
   "attachments": {},
   "cell_type": "markdown",
   "metadata": {},
   "source": [
    "##### **Question 5 : extraire la composante bleu**\n",
    "Ecrire une fonction `composante_bleu()` retournant l’image PIL passée en paramètre en nuance de bleu.\n",
    "\n",
    "En travaillant sur le tableau associé à l’image, il s’agit simplement de mettre à 0 les composantes R et V des pixels"
   ]
  },
  {
   "cell_type": "code",
   "execution_count": 8,
   "metadata": {},
   "outputs": [],
   "source": [
    "# réponse\n",
    "def composante_bleu(image):\n",
    "    # à compléter\n",
    "    imageTab=np.array(image)\n",
    "    h,l,r=imageTab.shape\n",
    "    for x in range(h):\n",
    "        for y in range(l):\n",
    "            imageTab[x][y][0] = 0\n",
    "            imageTab[x][y][1] = 0\n",
    "    return Image.fromarray(imageTab)\n",
    "\n",
    "\n",
    "\n",
    "    "
   ]
  },
  {
   "cell_type": "code",
   "execution_count": 9,
   "metadata": {},
   "outputs": [],
   "source": [
    "# test sur l'image du fichier santa-clauss.png\n",
    "# test \n",
    "image=Image.open(\"santa-claus.png\")\n",
    "image_bleu=composante_bleu(image)\n",
    "image_bleu.save(\"santa-clauss-bleu.png\")\n",
    "\n",
    "# visualisation de l'image \n",
    "# prb d'affichage sur les machines des salles TP \n",
    "# à décommenter si ordinateur personnel\n",
    "image_bleu.show()\n",
    "\n"
   ]
  },
  {
   "attachments": {},
   "cell_type": "markdown",
   "metadata": {},
   "source": [
    "##### **Question 6 :  conversion d'une image en niveaux de gris**\n",
    "\n",
    "Ecrire une fonction `conversionGris()` retournant l'image PIL passée en paramètre en niveaux de gris. \n",
    "\n",
    "La formule couramment utilisée pour convertir une image en niveaux de gris est de prendre la moyenne des valeurs de rouge, vert et bleu (R, V, B) des pixels. Cette formule est donnée par : $$(R + V + B) / 3$$\n",
    "\n",
    "Il est également possible d'utiliser une formule basée sur la luminosité humaine, qui tient compte de la façon dont l'œil humain perçoit la luminosité des couleurs. Cette formule est donnée par :\n",
    "\n",
    "$$0.2126 * R + 0.7152 * V + 0.0722 * B$$\n",
    "\n",
    "Cela a pour effet de donner plus de poids aux composantes vertes, qui sont celles qui ont le plus d'influence sur la luminosité perçue par l'œil humain.\n",
    "\n",
    "Si le codale est au format RVBA, la composante alpha (A) qui est l'opacité ne change pas la formule pour passer en niveau de gris, on utilise toujours la moyenne ou la formule basée sur la luminosité humaine."
   ]
  },
  {
   "cell_type": "code",
   "execution_count": 5,
   "metadata": {},
   "outputs": [],
   "source": [
    "# réponse\n",
    "def conversionGrisOeil(image):\n",
    "    # à compléter\n",
    "    imageTab=np.array(image)\n",
    "    h,l,r=imageTab.shape\n",
    "    for x in range(h):\n",
    "        for y in range(l):\n",
    "            imageTab[x][y][0] *= 0.2126\n",
    "            imageTab[x][y][1] *= 0.7152\n",
    "            imageTab[x][y][2] *= 0.0722\n",
    "    return Image.fromarray(imageTab)\n",
    "\n",
    "def conversionGrisMoy(image):\n",
    "    # à compléter\n",
    "    imageTab=np.array(image)\n",
    "    h,l,r=imageTab.shape\n",
    "    for x in range(h):\n",
    "        for y in range(l):\n",
    "            r, v, b, a = imageTab[x][y]\n",
    "            imageTab[x][y][0] = (r+v+b)/3\n",
    "            imageTab[x][y][1] = (r+v+b)/3\n",
    "            imageTab[x][y][2] = (r+v+b)/3\n",
    "    return Image.fromarray(imageTab)\n",
    "\n"
   ]
  },
  {
   "cell_type": "code",
   "execution_count": 7,
   "metadata": {},
   "outputs": [],
   "source": [
    "# test sur l'image du fichier santa-clauss.png\n",
    "image = Image.open(\"santa-claus.png\") \n",
    "image_gris=conversionGrisOeil(image)\n",
    "image_gris.save(\"santa-clauss-gris.png\")\n",
    "\n",
    "# visualisation de l'image\n",
    "# prb d'affichage sur les machines des salles TP \n",
    "# à décommenter si ordinateur personnel\n",
    "image_gris.show()"
   ]
  },
  {
   "attachments": {},
   "cell_type": "markdown",
   "metadata": {},
   "source": [
    "##### **Question 7 : basculement**\n",
    "\n",
    "Ecrivez une fonction `basculement()` qui, à partir d'une image PIL comme argument, affiche l'image \"basculée\" par transposition de la matrice. \n",
    "\n",
    "On utilisera la fonction `np.transpose()` qui transpose une matrice (tableau 2D uniquement) : il faudra donc l'appliquer sur chaque tableau 2D des différents canaux..."
   ]
  },
  {
   "cell_type": "code",
   "execution_count": 73,
   "outputs": [
    {
     "name": "stdout",
     "output_type": "stream",
     "text": [
      "Help on function transpose in module numpy:\n",
      "\n",
      "transpose(a, axes=None)\n",
      "    Returns an array with axes transposed.\n",
      "    \n",
      "    For a 1-D array, this returns an unchanged view of the original array, as a\n",
      "    transposed vector is simply the same vector.\n",
      "    To convert a 1-D array into a 2-D column vector, an additional dimension\n",
      "    must be added, e.g., ``np.atleast2d(a).T`` achieves this, as does\n",
      "    ``a[:, np.newaxis]``.\n",
      "    For a 2-D array, this is the standard matrix transpose.\n",
      "    For an n-D array, if axes are given, their order indicates how the\n",
      "    axes are permuted (see Examples). If axes are not provided, then\n",
      "    ``transpose(a).shape == a.shape[::-1]``.\n",
      "    \n",
      "    Parameters\n",
      "    ----------\n",
      "    a : array_like\n",
      "        Input array.\n",
      "    axes : tuple or list of ints, optional\n",
      "        If specified, it must be a tuple or list which contains a permutation\n",
      "        of [0,1,...,N-1] where N is the number of axes of `a`. The `i`'th axis\n",
      "        of the returned array will correspond to the axis numbered ``axes[i]``\n",
      "        of the input. If not specified, defaults to ``range(a.ndim)[::-1]``,\n",
      "        which reverses the order of the axes.\n",
      "    \n",
      "    Returns\n",
      "    -------\n",
      "    p : ndarray\n",
      "        `a` with its axes permuted. A view is returned whenever possible.\n",
      "    \n",
      "    See Also\n",
      "    --------\n",
      "    ndarray.transpose : Equivalent method.\n",
      "    moveaxis : Move axes of an array to new positions.\n",
      "    argsort : Return the indices that would sort an array.\n",
      "    \n",
      "    Notes\n",
      "    -----\n",
      "    Use ``transpose(a, argsort(axes))`` to invert the transposition of tensors\n",
      "    when using the `axes` keyword argument.\n",
      "    \n",
      "    Examples\n",
      "    --------\n",
      "    >>> a = np.array([[1, 2], [3, 4]])\n",
      "    >>> a\n",
      "    array([[1, 2],\n",
      "           [3, 4]])\n",
      "    >>> np.transpose(a)\n",
      "    array([[1, 3],\n",
      "           [2, 4]])\n",
      "    \n",
      "    >>> a = np.array([1, 2, 3, 4])\n",
      "    >>> a\n",
      "    array([1, 2, 3, 4])\n",
      "    >>> np.transpose(a)\n",
      "    array([1, 2, 3, 4])\n",
      "    \n",
      "    >>> a = np.ones((1, 2, 3))\n",
      "    >>> np.transpose(a, (1, 0, 2)).shape\n",
      "    (2, 1, 3)\n",
      "    \n",
      "    >>> a = np.ones((2, 3, 4, 5))\n",
      "    >>> np.transpose(a).shape\n",
      "    (5, 4, 3, 2)\n",
      "\n"
     ]
    }
   ],
   "source": [
    "help(np.transpose)"
   ],
   "metadata": {
    "collapsed": false
   }
  },
  {
   "cell_type": "code",
   "execution_count": 13,
   "metadata": {},
   "outputs": [],
   "source": [
    "# réponse\n",
    "def basculement(image):\n",
    "    # à compléter\n",
    "    imageTab=np.array(image)\n",
    "    transpose = np.transpose(imageTab, (1,0,2))\n",
    "    return Image.fromarray(transpose)"
   ]
  },
  {
   "cell_type": "code",
   "execution_count": 14,
   "metadata": {},
   "outputs": [
    {
     "name": "stdout",
     "output_type": "stream",
     "text": [
      "<PIL.Image.Image image mode=RGBA size=948x730 at 0x2309A29FFD0>\n"
     ]
    }
   ],
   "source": [
    "# test sur l'image du fichier santa-clauss.png\n",
    "image = Image.open(\"santa-claus.png\")\n",
    "# image.show() #affichage\n",
    "image_transpose=basculement(image)\n",
    "print(image_transpose)\n",
    "image_transpose.save(\"santa-clauss-transpose.png\")\n",
    "\n",
    "# visualisation de l'image \n",
    "# prb d'affichage sur les machines des salles TP \n",
    "# à décommenter si ordinateur personnel\n",
    "image_transpose.show() #affichage\n"
   ]
  },
  {
   "attachments": {},
   "cell_type": "markdown",
   "metadata": {},
   "source": [
    "-----\n"
   ]
  }
 ],
 "metadata": {
  "kernelspec": {
   "display_name": "Python 3",
   "language": "python",
   "name": "python3"
  },
  "language_info": {
   "codemirror_mode": {
    "name": "ipython",
    "version": 3
   },
   "file_extension": ".py",
   "mimetype": "text/x-python",
   "name": "python",
   "nbconvert_exporter": "python",
   "pygments_lexer": "ipython3",
   "version": "3.9.2 (v3.9.2:1a79785e3e, Feb 19 2021, 09:06:10) \n[Clang 6.0 (clang-600.0.57)]"
  },
  "orig_nbformat": 4,
  "vscode": {
   "interpreter": {
    "hash": "aee8b7b246df8f9039afb4144a1f6fd8d2ca17a180786b69acc140d282b71a49"
   }
  }
 },
 "nbformat": 4,
 "nbformat_minor": 2
}

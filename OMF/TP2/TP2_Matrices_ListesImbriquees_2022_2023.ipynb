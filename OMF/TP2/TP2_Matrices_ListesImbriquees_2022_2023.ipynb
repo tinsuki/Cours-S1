{
 "cells": [
  {
   "attachments": {},
   "cell_type": "markdown",
   "metadata": {},
   "source": [
    "# TP 2 : Calcul matriciel  avec python\n",
    "\n",
    "Pour représenter une matrice en python et effectuer du calcul matriciel, il y a plusieurs méthodes selon que l'on utilise ou non le module complémentaire `numpy` \n",
    "\n",
    "Dans ce TP, nous faisons le choix de ne pas utiliser le module `numpy`. \n"
   ]
  },
  {
   "attachments": {},
   "cell_type": "markdown",
   "metadata": {},
   "source": [
    "---\n",
    "#### 1. Réprésentation des matrices : Les matrices comme listes imbriquées\n",
    "---\n",
    "\n",
    "Une matrice est une structure de données bidimensionnelle dans laquelle les nombres sont organisés en lignes et en colonnes. \n",
    "\n",
    "Sans installation de modules complémentaires (numpy par exemple), Python n'a pas de type intégré pour les matrices. \n",
    "\n",
    "Cependant, il est possible de définir une matrice en utilisant le type natif \"list\"  : chaque ligne de la matrice sera stockée sous forme de liste et la matrice sera la liste de ces lignes. On peut parler de *listes imbriquées* ou de *listes de listes*. \n",
    "\n",
    "Par exemple : La matrice $$ \\begin{pmatrix} 1&2&3\\\\4&5&6 \\end{pmatrix}$$\n",
    "sera représentée avec l'objet : \n",
    "\n",
    "```python\n",
    "[[1,2,3],[4,5,6]]\n",
    "```"
   ]
  },
  {
   "attachments": {},
   "cell_type": "markdown",
   "metadata": {},
   "source": [
    "**Question 1** :  On définit la matrice $A=(a_{i,j})$ par :   $$ A=\\begin{pmatrix} 3&1&2\\\\1&2&-2 \\\\-1&0&5\\\\1&3&3 \\end{pmatrix}$$\n",
    "Créez l'objet $A$ de type *list* représentant cette matrice."
   ]
  },
  {
   "cell_type": "code",
   "execution_count": 1,
   "metadata": {},
   "outputs": [],
   "source": [
    "# réponse\n",
    "A = [[3,1,2],[1,2,-2],[-1,0,5],[1,3,3]]"
   ]
  },
  {
   "attachments": {},
   "cell_type": "markdown",
   "metadata": {},
   "source": [
    "**Question 2** :  Quelle ligne de commande sur $A$ retourne la 2iè ligne ? "
   ]
  },
  {
   "cell_type": "code",
   "execution_count": 2,
   "metadata": {},
   "outputs": [
    {
     "data": {
      "text/plain": [
       "[1, 2, -2]"
      ]
     },
     "execution_count": 2,
     "metadata": {},
     "output_type": "execute_result"
    }
   ],
   "source": [
    "# réponse\n",
    "A[1]"
   ]
  },
  {
   "attachments": {},
   "cell_type": "markdown",
   "metadata": {},
   "source": [
    "**Question 3** :  \n",
    "1. Quelle ligne de commande sur $A$ retourne le premier élément de la 2ie ligne (noté mathématiquement $a_{2,1}$) ?  \n",
    "2. Quelle ligne de commande sur $A$ retourne l'élément $a_{3,3}$ de la matrice ? ($a_{3,3} = 5$)"
   ]
  },
  {
   "cell_type": "code",
   "execution_count": 3,
   "metadata": {},
   "outputs": [
    {
     "data": {
      "text/plain": [
       "1"
      ]
     },
     "execution_count": 3,
     "metadata": {},
     "output_type": "execute_result"
    }
   ],
   "source": [
    "# réponse \n",
    "A[1][0]"
   ]
  },
  {
   "cell_type": "markdown",
   "metadata": {},
   "source": [
    "**Question 4** : Quelle ligne de commande retourne le nombre de lignes de la matrice $A$ ?"
   ]
  },
  {
   "cell_type": "code",
   "execution_count": 4,
   "metadata": {},
   "outputs": [
    {
     "data": {
      "text/plain": [
       "4"
      ]
     },
     "execution_count": 4,
     "metadata": {},
     "output_type": "execute_result"
    }
   ],
   "source": [
    "# réponse\n",
    "len(A)"
   ]
  },
  {
   "cell_type": "markdown",
   "metadata": {},
   "source": [
    "**Question 5** : Quelle ligne de commande retourne le nombre de colonnes de la matrice $A$ ?"
   ]
  },
  {
   "cell_type": "code",
   "execution_count": 5,
   "metadata": {},
   "outputs": [
    {
     "data": {
      "text/plain": [
       "3"
      ]
     },
     "execution_count": 5,
     "metadata": {},
     "output_type": "execute_result"
    }
   ],
   "source": [
    "# réponse\n",
    "len(A[0])"
   ]
  },
  {
   "attachments": {},
   "cell_type": "markdown",
   "metadata": {},
   "source": [
    "**Question 6** : Executer et comprendre la commande suivante : "
   ]
  },
  {
   "cell_type": "code",
   "execution_count": 6,
   "metadata": {},
   "outputs": [],
   "source": [
    "M=[[1]*3 for i in range(3)]"
   ]
  },
  {
   "attachments": {},
   "cell_type": "markdown",
   "metadata": {},
   "source": [
    "**Question 7** :  Créez l'objet liste correspondant à la matrice nulle de dimension (10,20) ? "
   ]
  },
  {
   "cell_type": "code",
   "execution_count": 7,
   "metadata": {},
   "outputs": [
    {
     "data": {
      "text/plain": [
       "[[0, 0, 0, 0, 0, 0, 0, 0, 0, 0, 0, 0, 0, 0, 0, 0, 0, 0, 0, 0],\n",
       " [0, 0, 0, 0, 0, 0, 0, 0, 0, 0, 0, 0, 0, 0, 0, 0, 0, 0, 0, 0],\n",
       " [0, 0, 0, 0, 0, 0, 0, 0, 0, 0, 0, 0, 0, 0, 0, 0, 0, 0, 0, 0],\n",
       " [0, 0, 0, 0, 0, 0, 0, 0, 0, 0, 0, 0, 0, 0, 0, 0, 0, 0, 0, 0],\n",
       " [0, 0, 0, 0, 0, 0, 0, 0, 0, 0, 0, 0, 0, 0, 0, 0, 0, 0, 0, 0],\n",
       " [0, 0, 0, 0, 0, 0, 0, 0, 0, 0, 0, 0, 0, 0, 0, 0, 0, 0, 0, 0],\n",
       " [0, 0, 0, 0, 0, 0, 0, 0, 0, 0, 0, 0, 0, 0, 0, 0, 0, 0, 0, 0],\n",
       " [0, 0, 0, 0, 0, 0, 0, 0, 0, 0, 0, 0, 0, 0, 0, 0, 0, 0, 0, 0],\n",
       " [0, 0, 0, 0, 0, 0, 0, 0, 0, 0, 0, 0, 0, 0, 0, 0, 0, 0, 0, 0],\n",
       " [0, 0, 0, 0, 0, 0, 0, 0, 0, 0, 0, 0, 0, 0, 0, 0, 0, 0, 0, 0]]"
      ]
     },
     "execution_count": 7,
     "metadata": {},
     "output_type": "execute_result"
    }
   ],
   "source": [
    "# réponse\n",
    "N = [[0]*20 for i in range(10)]\n",
    "N"
   ]
  },
  {
   "attachments": {},
   "cell_type": "markdown",
   "metadata": {},
   "source": [
    "**Question 8** : Complétez les instructions suivantes pour retourner la liste correspondant à la 3ie colonnne de la matrice A : "
   ]
  },
  {
   "cell_type": "code",
   "execution_count": 8,
   "metadata": {},
   "outputs": [
    {
     "name": "stdout",
     "output_type": "stream",
     "text": [
      "3ie colonne :  [2, -2, 5, 3]\n"
     ]
    }
   ],
   "source": [
    "# résultat attendu : col3 : [2,-2,5,3]\n",
    "\n",
    "col3=[]\n",
    "for ligne in A:\n",
    "    # ---  A COMPLETER  --- \n",
    "    col3.append(ligne[2])\n",
    "\n",
    "print(\"3ie colonne : \",col3)\n",
    "                            "
   ]
  },
  {
   "attachments": {},
   "cell_type": "markdown",
   "metadata": {},
   "source": [
    "---\n",
    "### 2. Calcul matriciel  :\n",
    "\n",
    "Programmation sous la forme de fonctions des 4 opérateurs matriciels : \n",
    "- addition de deux matrices\n",
    "- multiplication d'une matrice par un nombre\n",
    "- transposé d'une matrice \n",
    "- produit de deux matrices\n",
    "\n",
    "---\n"
   ]
  },
  {
   "attachments": {},
   "cell_type": "markdown",
   "metadata": {},
   "source": [
    "**Question 9**  :  Écrivez puis testez la fonction `addition()` qui effectue l'addition de deux matrices $A$ et $B$ : "
   ]
  },
  {
   "cell_type": "code",
   "execution_count": 32,
   "metadata": {},
   "outputs": [],
   "source": [
    "# en entrée : Deux matrices A et B \n",
    "# en sortie : La matrice A+B si elle existe, sinon le message 'problème de dimension'\n",
    " \n",
    "def addition(A,B): \n",
    "    # ---  A COMPLETER  ---   \n",
    "    if len(A)!=len(B) or len(A[0])!=len(B[0]):\n",
    "        return \"problème de dimmension\"\n",
    "    C = []\n",
    "    for x in range(len(A)):\n",
    "        ligne = []\n",
    "        for y in range(len(A[0])):\n",
    "            ligne.append(A[x][y]+B[x][y])\n",
    "        C.append(ligne)\n",
    "    return C\n",
    "\n",
    "def addCompr(A, B):\n",
    "    return [[A[x][y]+B[x][y] for y in range(len(A[0]))] for x in range(len(A))] if len(A)==len(B) and len(A[0])==len(B[0]) else \"problème de dimmension\""
   ]
  },
  {
   "cell_type": "code",
   "execution_count": 33,
   "metadata": {},
   "outputs": [
    {
     "name": "stdout",
     "output_type": "stream",
     "text": [
      "[[2, 2, 2], [3, 3, 3], [4, 4, 4]]\n",
      "[[2, 2], [3, 3], [4, 4]]\n",
      "problème de dimmension\n"
     ]
    }
   ],
   "source": [
    "# test de la fonction sur les différent cas : \n",
    "\n",
    "# cas 1 : sur deux matrices carrées d'ordre >= 2\n",
    "\n",
    "A = [[1,1,1],[2,2,2],[3,3,3]]\n",
    "B = [[1,1,1],[1,1,1],[1,1,1]]\n",
    "C = addCompr(A,B)\n",
    "print(C) # C = [[2, 2, 2], [3, 3, 3], [4, 4, 4]]\n",
    "\n",
    "# cas 2 : sur deux matrices non carrées mais de mêmes dimensions\n",
    "\n",
    "A = [[1,1],[2,2],[3,3]]\n",
    "B = [[1,1],[1,1],[1,1]]\n",
    "C = addition(A,B)\n",
    "print(C) # C = [[2, 2], [3, 3], [4, 4]]\n",
    "\n",
    "# cas 3 : sur deux matrices de dimensions différentes\n",
    "\n",
    "A = [[1,1],[2,2],[3,3]]\n",
    "B = [[1,1,1],[1,1,1],[1,1,1]]\n",
    "C = addition(A,B)\n",
    "print(C) # C = \"problème de dimmension\""
   ]
  },
  {
   "attachments": {},
   "cell_type": "markdown",
   "metadata": {},
   "source": [
    "**Question 10**  :   Écrivez puis testez la fonction `multScalaire()` qui effectue la multiplication d'une matrice $A$ par un nombre $k$ : "
   ]
  },
  {
   "cell_type": "code",
   "execution_count": 11,
   "metadata": {},
   "outputs": [],
   "source": [
    "# en entrée : une matrice A et un nombre k\n",
    "# en sortie : la matrice kA\n",
    "\n",
    "def multScalaire(A,k):    \n",
    "    # ---  A COMPLETER  ---\n",
    "    C = []\n",
    "    for x in range(len(A)):\n",
    "        ligne = []\n",
    "        for y in range(len(A[0])):\n",
    "            ligne.append(A[x][y]*k)\n",
    "        C.append(ligne)\n",
    "    return C"
   ]
  },
  {
   "cell_type": "code",
   "execution_count": 12,
   "metadata": {},
   "outputs": [
    {
     "name": "stdout",
     "output_type": "stream",
     "text": [
      "[[2, 4, 6], [2, 4, 6], [2, 4, 6]]\n",
      "[[3, 6, 9, 12], [3, 6, 9, 12], [3, 6, 9, 12]]\n"
     ]
    }
   ],
   "source": [
    "# test de la fonction sur les différents cas : \n",
    "# cas 1 : sur une matrice carrée d'ordre > 1\n",
    "\n",
    "A = [[1,2,3],[1,2,3],[1,2,3]]\n",
    "k = 2\n",
    "C = multScalaire(A, k)\n",
    "print(C)\n",
    "\n",
    "# cas 2 : sur une matrice non carrée\n",
    "\n",
    "A = [[1,2,3,4],[1,2,3,4],[1,2,3,4]]\n",
    "k = 3\n",
    "C = multScalaire(A, k)\n",
    "print(C)"
   ]
  },
  {
   "attachments": {},
   "cell_type": "markdown",
   "metadata": {},
   "source": [
    "**Question 11** : \n",
    "\n",
    "Quel est l'ordre de compléxité des fonctions `addition()` et `multScalaire()` en fonction des dimensions $(n,p)$ des matrices ? "
   ]
  },
  {
   "cell_type": "raw",
   "metadata": {},
   "source": [
    "# réponse \n",
    "L'ordre de complexité est n*p"
   ]
  },
  {
   "attachments": {},
   "cell_type": "markdown",
   "metadata": {},
   "source": [
    "**Question 12**  :  Écrivez puis testez la fonction `transpose()` qui retourne la transposé d'une matrice $A$  : "
   ]
  },
  {
   "cell_type": "code",
   "execution_count": 13,
   "metadata": {},
   "outputs": [],
   "source": [
    "# en entrée : une matrice A\n",
    "# en sortie : la matrice transposée de A\n",
    "\n",
    "def transpose(A):\n",
    "    # --- A COMPLETER --- \n",
    "    if len(A)==1 and len(A[0])==1:\n",
    "        return A\n",
    "\n",
    "    C = []\n",
    "    for y in range(len(A[0])):\n",
    "        colone = []\n",
    "        for x in range(len(A)):\n",
    "            colone.append(A[x][y])\n",
    "        C.append(colone)\n",
    "    return C"
   ]
  },
  {
   "cell_type": "code",
   "execution_count": 34,
   "metadata": {
    "collapsed": false
   },
   "outputs": [],
   "source": [
    "def transposeCompr(A):\n",
    "    return [[A[x][y]for x in range(len(A))]for y in range(len(A[0]))]"
   ]
  },
  {
   "cell_type": "markdown",
   "metadata": {
    "collapsed": false
   },
   "source": []
  },
  {
   "cell_type": "code",
   "execution_count": 35,
   "metadata": {},
   "outputs": [
    {
     "name": "stdout",
     "output_type": "stream",
     "text": [
      "[[1, 4, 7], [2, 5, 8], [3, 6, 9]]\n",
      "[[1, 4, 7], [2, 5, 8]]\n"
     ]
    }
   ],
   "source": [
    "# test de la fonction transposé sur les différents cas : \n",
    "\n",
    "# cas 1 : sur une matrice carrée d'ordre >=2\n",
    "\n",
    "A = [[1, 2, 3], [4, 5, 6], [7, 8, 9]]\n",
    "print(transposeCompr(A))\n",
    "\n",
    "# cas 2 : sur une matrice non carréé\n",
    "\n",
    "A = [[1, 2], [4, 5], [7, 8]]\n",
    "print(transpose(A))"
   ]
  },
  {
   "attachments": {},
   "cell_type": "markdown",
   "metadata": {},
   "source": [
    "**Question 14**  :  \n",
    "\n",
    "On rappelle la définition du produit de deux matrices : \n",
    "\n",
    "Soit $A$ une matrice de dimension $(n,p)$.  \n",
    "soit $B$ une matrice de dimension $(p,q)$.  \n",
    "\n",
    "\n",
    "Le produit de $A$ par $B$, noté $AB$, est une matrice $C$ de dimension $(n,q)$ dont l'élément d'indice $ij$  est obtenu en multipliant la $i$-ème ligne de $A$ par la $j$-ème colonne de $B$ : \n",
    "$$ \\forall i=1..n, \\quad \\forall j=1..q \\qquad c_{ij}=a_{i1}b_{1j} + a_{i2}b_{2j} + \\ldots + a_{ip}b_{pj}= \\sum^{p}_{k=1} a_{ik}b_{kj} $$\n",
    "\n",
    "Soient les matrices $A$ et $B$ suivantes : \n",
    "$$ A = \\begin{pmatrix} 1&0&2 \\\\1&1&0 \\end{pmatrix}  \\quad  B =  \\begin{pmatrix} 1&0&4\\\\0&2&1\\\\-1&1&1\\end{pmatrix} $$ \n",
    "Les produits $AB$ et $BA$ sont-ils définis ?   \n",
    "Si oui, quelles sont leurs dimensions ?    Faire le calcul \"à la main\"  "
   ]
  },
  {
   "attachments": {},
   "cell_type": "markdown",
   "metadata": {},
   "source": [
    "Réponse :\n",
    "\n",
    "\n",
    "$AB = \\begin{pmatrix} -1&2&6\\\\1&2&5\\end{pmatrix} $\n",
    "\n",
    "\n",
    "$BA$ n'est pas possible"
   ]
  },
  {
   "attachments": {},
   "cell_type": "markdown",
   "metadata": {},
   "source": [
    "**Question 15** : Écrivez puis tester la fonction `produit()` suivante qui effectue le produit de deux matrices $A$ et $B$ : "
   ]
  },
  {
   "cell_type": "code",
   "execution_count": 57,
   "metadata": {},
   "outputs": [],
   "source": [
    "# en entrée : deux matrices A et B\n",
    "# en sortie : la matrice produit AB si elle existe,  sinon le message 'problème de dimension'\n",
    "\n",
    "\n",
    "\n",
    "def produit(A,B):\n",
    "    # --- A COMPLETER ---\n",
    "    if len(A[0])!=len(B):\n",
    "        return \"problème de dimension\"\n",
    "    C = []\n",
    "    for x in range(len(A)):\n",
    "        ligne = []\n",
    "        for i in range(len(B[0])):\n",
    "            somme = 0\n",
    "            for y in range(len(A[0])):\n",
    "                somme += (A[x][y]*B[y][i])\n",
    "            ligne.append(somme)\n",
    "        C.append(ligne)\n",
    "    return C"
   ]
  },
  {
   "cell_type": "code",
   "execution_count": 58,
   "metadata": {},
   "outputs": [
    {
     "name": "stdout",
     "output_type": "stream",
     "text": [
      "[[-1, 2, 6], [1, 2, 5]]\n",
      "[[-1], [-1], [-1], [2], [2], [2]]\n",
      "problème de dimension\n"
     ]
    }
   ],
   "source": [
    "# test de la fonction produit sur les différents cas : \n",
    "# cas 1 : sur les matrices A et B de la question 14\n",
    "\n",
    "A = [[1, 0, 2], [1,1,0,]]\n",
    "B = [[1, 0, 4], [0, 2, 1], [-1, 1, 1]]\n",
    "C = produit(A, B)\n",
    "D = produitCompr(A, B)\n",
    "print(C)\n",
    "print(D)\n",
    "\n",
    "# cas 2 : sur deux matrices carrées d'ordres différents (le produit est impossible)\n",
    "\n",
    "A = [[1, 0], [1,1]]\n",
    "B = [[1, 0, 4], [0, 2, 1], [-1, 1, 1]]\n",
    "C = produit(A, B)\n",
    "print(C)\n"
   ]
  },
  {
   "attachments": {},
   "cell_type": "markdown",
   "metadata": {},
   "source": [
    "**Question 16** : Ecrivez puis testez la fonction `estTriang()` qui vérifie si une matrice est une matrice triangulaire supérieure ou non.\n",
    "\n",
    "On rappelle qu'une matrice **triangulaire supérieure** est une matrice *carrée* spéciale dont tous les éléments en dessous de la diagonale principale sont nuls, ce qui signifie que : $$ a_{i,j} = 0 \\quad \\forall i > j$$"
   ]
  },
  {
   "cell_type": "code",
   "execution_count": 21,
   "metadata": {},
   "outputs": [],
   "source": [
    "## en entrée : une matrice A\n",
    "## en sortie : True si la matrice est triangulaire supérieure, False sinon\n",
    "\n",
    "def estTriang(A): \n",
    "    # ---  A COMPLETER ---\n",
    "    if len(A)!=len(A[0]):\n",
    "        return False\n",
    "    for x in range(len(A)):\n",
    "        for y in range(x):\n",
    "            if A[x][y] != 0 :\n",
    "                return False\n",
    "    return True"
   ]
  },
  {
   "cell_type": "code",
   "execution_count": 22,
   "metadata": {},
   "outputs": [
    {
     "name": "stdout",
     "output_type": "stream",
     "text": [
      "False\n",
      "False\n",
      "False\n",
      "True\n"
     ]
    }
   ],
   "source": [
    "# test sur les différents cas :\n",
    "\n",
    "# cas 1 : sur une matrice non carrée\n",
    "A = [[1, 2], [3, 0], [6, -3]]\n",
    "print(estTriang(A))\n",
    "\n",
    "# cas 2 : sur une matrice carrée non triangulaire\n",
    "B = [[1, 2, 3], [4, 5, 6], [7, 8, 9]]\n",
    "print(estTriang(B))\n",
    "\n",
    "# cas 3 : sur une matrice carrée triangulairemais triangulaire inférieur :\n",
    "C = [[1,0,0],[1,2,0],[1,2,3]]\n",
    "print(estTriang(C))\n",
    "\n",
    "# cas 4 : sur une matrice carrée triangulaire supérieure :\n",
    "D = [[1,2,3],[0,2,3],[0,0,3]]\n",
    "print(estTriang(D))\n",
    "\n"
   ]
  }
 ],
 "metadata": {
  "kernelspec": {
   "display_name": "Python 3",
   "language": "python",
   "name": "python3"
  },
  "language_info": {
   "codemirror_mode": {
    "name": "ipython",
    "version": 3
   },
   "file_extension": ".py",
   "mimetype": "text/x-python",
   "name": "python",
   "nbconvert_exporter": "python",
   "pygments_lexer": "ipython3",
   "version": "3.11.1 (tags/v3.11.1:a7a450f, Dec  6 2022, 19:58:39) [MSC v.1934 64 bit (AMD64)]"
  },
  "vscode": {
   "interpreter": {
    "hash": "a06fb0db943f72dfcea2ce9262aebb372cadca1ea96c4ba4990e9f2d78b6f233"
   }
  }
 },
 "nbformat": 4,
 "nbformat_minor": 2
}
